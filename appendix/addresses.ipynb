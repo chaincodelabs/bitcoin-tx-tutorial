{
 "cells": [
  {
   "cell_type": "markdown",
   "id": "9e29d9d6",
   "metadata": {},
   "source": [
    "## Setup \n",
    "\n",
    "### Requirements\n",
    "For this exercise we'll need Bitcoin Core. This notebook has been tested with [v24.0.1](https://github.com/bitcoin/bitcoin/releases/tag/v24.0.1).\n",
    "\n",
    "Below, set the paths for:\n",
    "1. The bitcoin core functional test framework directory.\n",
    "2. The directory containing bitcoin-tx-tutorial.\n",
    "\n",
    "**You'll need to edit these next two lines for your local setup.**"
   ]
  },
  {
   "cell_type": "code",
   "execution_count": 1,
   "id": "4230eff0",
   "metadata": {},
   "outputs": [],
   "source": [
    "path_to_bitcoin_functional_test = \"/Users/dariuscognac/bitcoin/test/functional\"\n",
    "path_to_bitcoin_tx_tutorial = \"/Users/dariuscognac/Documents/Github/bitcoin-tx-tutorial\"\n",
    "\n",
    "import sys\n",
    "\n",
    "# Add the functional test framework to our PATH\n",
    "sys.path.insert(0, path_to_bitcoin_functional_test)\n",
    "from test_framework.test_shell import TestShell\n",
    "\n",
    "# Add the bitcoin-tx-tutorial functions to our PATH\n",
    "sys.path.insert(0, path_to_bitcoin_tx_tutorial)\n",
    "from functions import *\n",
    "\n",
    "import json"
   ]
  },
  {
   "cell_type": "markdown",
   "id": "e0b7043b",
   "metadata": {},
   "source": [
    "# Bitcoin scriptPubKey formats and addresses\n",
    "\n",
    "Here we will cover the different scriptPubKey formats as well as how they can be encoded and decoded.\n",
    "\n",
    "The following functions have more explanation in the corresponding notebooks:\n",
    "- [Hash Functions](https://github.com/DariusParvin/bitcoin-tx-tutorial/blob/main/appendix/hash-functions.ipynb) `HASH245`, `HASH160`.\n",
    "- [Bitcoin Script](https://github.com/DariusParvin/bitcoin-tx-tutorial/blob/main/appendix/bitcoin-script.ipynb) `pushbytes`"
   ]
  },
  {
   "cell_type": "markdown",
   "id": "36d6b19a",
   "metadata": {},
   "source": [
    "## Introduction\n",
    "When Alice sends Bob bitcoin, Alice does so by creating a new transaction where one (or more) of the outputs has a scriptPubKey (aka 'locking script') specified by Bob. What makes the output effectively belong to Bob is that only he knows how to create a scriptSig that will unlock the locking script.\n",
    "\n",
    "If Bob were to send Alice the scriptPubKey as raw bytes, any error in communication could result in Alice sending the bitcoin to the wrong scriptPubKey, making the bitcoin impossible to recover.\n",
    "\n",
    "To help prevent this problem, there are common address formats for encoding scriptPubKeys. These addresses are designed to be easier to read and contain a checksum to help with error detection.\n",
    "\n",
    "Bitcoin uses three address types (base58, bech32, bech32m) that cover the standard scriptPubKey formats:\n",
    "- Base58\n",
    "    - P2PKH\n",
    "    - P2SH\n",
    "    - P2SH-P2WPKH\n",
    "- Bech32\n",
    "    - P2WPKH\n",
    "    - P2WSH\n",
    "- Bech32m\n",
    "    - P2TR\n",
    "\n",
    "### Base58 address prefixes\n",
    "These address formats not only encode the scriptPubKey for the output, but they also encode a prefix that specifies which network (mainnet/testnet) the output is intended for. Other cryptocurrencies based on bitcoin forks (e.g. litecoin or zcash) will use different prefix values to indicate which cryptocurrency the output is intended for. If a wallet implementation doesn't check that the prefix matches with the type of transaction being created, the wallet user may end up creating a transaction that for a different cryptocurrency than the one the user is intending to use.\n",
    "\n",
    "Here are some commonly used bitcoin address prefixes:\n",
    "- Base58\n",
    "    - Mainnet\n",
    "        - P2PKH - `0x00`\n",
    "        - P2SH  - `0x05`\n",
    "    - Testnet/Regtest\n",
    "        - P2PKH - `0x00`\n",
    "        - P2SH  - `0x05`\n",
    "\n",
    "### Bech32/Bech32m human readable part\n",
    "Bech32 addresses contain a human readable part (hrp) prepended to the address to indicate the network the address is intended for.\n",
    "\n",
    "- Bech32/Bech32m\n",
    "    - Mainnet - 'bc'\n",
    "    - Testnet - 'tb'\n",
    "    - Regtest - 'bcrt'\n",
    "\n",
    "Unlike Base58 addresses, the hrp does not indicate whether the address corresponds to a pubkey hash (P2WPKH) or script hash (P2SH) output. This is bech32 encodes the scriptPubKey \n",
    "\n",
    "A full list of bitcoin address prefixes can be found here: https://en.bitcoin.it/wiki/List_of_address_prefixes"
   ]
  },
  {
   "cell_type": "markdown",
   "id": "718f6534",
   "metadata": {},
   "source": [
    "## Base58\n",
    "\n",
    "TODO - The examples below demonstrate using the base58 encoding/decoding functions. It would be nice for completeness to illustrate bech32 encoding in a more verbose way, similar to the rest of the notebooks. "
   ]
  },
  {
   "cell_type": "code",
   "execution_count": 2,
   "id": "16534779",
   "metadata": {},
   "outputs": [],
   "source": [
    "import base58\n",
    "\n",
    "def encode_base58_checksum(b: bytes):\n",
    "    return base58.b58encode(b + hash256(b)[:4]).decode()\n",
    "\n",
    "def decode_base58(s: str):\n",
    "    return base58.b58decode(s)"
   ]
  },
  {
   "cell_type": "markdown",
   "id": "9756c214",
   "metadata": {},
   "source": [
    "### Creating a base58 P2PKH address from a pubkey\n",
    "Given the pubkey `02466d7fcae563e5cb09a0d1870bb580344804617879a14949cf22285f1bae3f27`, create a p2pkh address for regtest."
   ]
  },
  {
   "cell_type": "code",
   "execution_count": 3,
   "id": "3f26d1a8",
   "metadata": {},
   "outputs": [
    {
     "name": "stdout",
     "output_type": "stream",
     "text": [
      "Base58 P2PKH address:  mo6CPsdW8EsnWdmSSCrQ6225VVDtpMBTug\n"
     ]
    }
   ],
   "source": [
    "pubkey = bytes.fromhex(\"02466d7fcae563e5cb09a0d1870bb580344804617879a14949cf22285f1bae3f27\")\n",
    "\n",
    "# Take the hash (hash160) of the pubkey\n",
    "pk_hash = hash160(pubkey)\n",
    "\n",
    "# Set the address prefix. For regtest p2pkh we use 0x6f\n",
    "# a list of prefixes can be found at https://en.bitcoin.it/wiki/List_of_address_prefixes\n",
    "# In bitcoin core it is defined in chainparams.cpp\n",
    "# https://github.com/bitcoin/bitcoin/blob/767d825e27b452d6e846280256e5932e906da44d/src/chainparams.cpp#L241\n",
    "prefix = bytes.fromhex(\"6f\")\n",
    "\n",
    "# Append the prefix\n",
    "payload = prefix + pk_hash\n",
    "\n",
    "# Apply base58 encoding \n",
    "p2pkh_address = encode_base58_checksum(payload)\n",
    "\n",
    "print('Base58 P2PKH address: ', p2pkh_address)"
   ]
  },
  {
   "cell_type": "markdown",
   "id": "22cf3dbc",
   "metadata": {},
   "source": [
    "For the rest of the notebooks we'll use the following function to convert pubkeys to base58 p2pkh addresses:"
   ]
  },
  {
   "cell_type": "code",
   "execution_count": 4,
   "id": "f2b5fa2d",
   "metadata": {},
   "outputs": [],
   "source": [
    "def pk_to_p2pkh(compressed: bytes, network: str):\n",
    "    '''Creates a p2pkh address from a compressed pubkey'''\n",
    "    pk_hash = hash160(compressed)\n",
    "    if network == \"regtest\" or network == \"testnet\":\n",
    "        prefix = bytes.fromhex(\"6f\")\n",
    "    elif network == \"mainnet\":\n",
    "        prefix = bytes.fromhex(\"00\")\n",
    "    else:\n",
    "        return \"Enter the network: testnet/regtest/mainnet\"\n",
    "    return encode_base58_checksum(prefix + pk_hash)"
   ]
  },
  {
   "cell_type": "markdown",
   "id": "ad662b04",
   "metadata": {},
   "source": [
    "### Creating a base58 P2SH address from a multisig script\n",
    "\n",
    "Here we'll create a 2-of-3 multisig script from 3 pubkeys and use that to generate a base58 P2SH address.\n",
    "\n",
    "Creating a P2SH base58 address is much like a P2PKH address, however we use the _redeemScript_ hash instead of a pubkey hash, and a different prefixes. \n",
    "\n",
    "The OP_CODES `02` and `03` are represented by `0x52` and `0x53`. For more on the multisig script, refer to the 'Bitcoin Script' chapter."
   ]
  },
  {
   "cell_type": "code",
   "execution_count": 5,
   "id": "e1e21810",
   "metadata": {},
   "outputs": [],
   "source": [
    "pubkey1 = bytes.fromhex(\"034f355bdcb7cc0af728ef3cceb9615d90684bb5b2ca5f859ab0f0b704075871aa\")\n",
    "pubkey2 = bytes.fromhex(\"02466d7fcae563e5cb09a0d1870bb580344804617879a14949cf22285f1bae3f27\")\n",
    "pubkey3 = bytes.fromhex(\"023c72addb4fdf09af94f0c94d7fe92a386a7e70cf8a1d85916386bb2535c7b1b1\")\n",
    "\n",
    "redeemScript = bytes.fromhex(\n",
    "    \"52\"            # OP_2\n",
    "    + \"21\"          # OP_PUSHBYTES_33 (\"21\" is the length of a 33 byte (compressed) pubkey in hex notation)\n",
    "    + pubkey1.hex() # pubkey1\n",
    "    + \"21\"          # OP_PUSHBYTES_33\n",
    "    + pubkey2.hex() # pubkey2\n",
    "    + \"21\"          # OP_PUSHBYTES_33\n",
    "    + pubkey3.hex() # pubkey3\n",
    "    + \"53\"          # OP_3\n",
    "    + \"ae\"          #OP_CHECKMULTISIG\n",
    ")"
   ]
  },
  {
   "cell_type": "markdown",
   "id": "d9ed3d0d",
   "metadata": {},
   "source": [
    "Now that we have our redeemScript, we can convert it to a base58 regtest P2SH address:"
   ]
  },
  {
   "cell_type": "code",
   "execution_count": 6,
   "id": "7c0f0bf5",
   "metadata": {
    "code_folding": []
   },
   "outputs": [
    {
     "name": "stdout",
     "output_type": "stream",
     "text": [
      "Base58 P2SH address:  2MuXogRGTh7uADB2wKBqFcsPTprVKnChJe6\n"
     ]
    }
   ],
   "source": [
    "# Take the hash (hash160) of the redeemScript\n",
    "script_hash = hash160(redeemScript)\n",
    "\n",
    "# Set the address prefix. For regtest p2sh we use 0xc4\n",
    "prefix = bytes.fromhex(\"c4\")\n",
    "\n",
    "# Append the prefix\n",
    "payload = prefix + script_hash\n",
    "\n",
    "# Apply base58 encoding \n",
    "p2sh_address = encode_base58_checksum(payload)\n",
    "\n",
    "print('Base58 P2SH address: ', p2sh_address)"
   ]
  },
  {
   "cell_type": "markdown",
   "id": "565df545",
   "metadata": {},
   "source": [
    "For the rest of the notebooks we'll use the following function for converting a P2SH redeemScript to a base58 address:"
   ]
  },
  {
   "cell_type": "code",
   "execution_count": 7,
   "id": "e4a880ac",
   "metadata": {},
   "outputs": [],
   "source": [
    "def script_to_p2sh(redeemScript, network):\n",
    "    rs_hash = hash160(redeemScript)\n",
    "    if network == \"regtest\" or network == \"testnet\":\n",
    "        prefix = bytes.fromhex(\"c4\")\n",
    "    elif network == \"mainnet\":\n",
    "        prefix = bytes.fromhex(\"05\")\n",
    "    else:\n",
    "        return \"Enter the network: tesnet/regtest/mainnet\"\n",
    "    return encode_base58_checksum(prefix + rs_hash)"
   ]
  },
  {
   "cell_type": "markdown",
   "id": "029bc749",
   "metadata": {},
   "source": [
    "### Decoding a base58 address\n",
    "Now let's do the reverse. Given a base58 address, decode it to get the prefix and scriptPubKey."
   ]
  },
  {
   "cell_type": "code",
   "execution_count": 8,
   "id": "91cfe0fc",
   "metadata": {},
   "outputs": [
    {
     "name": "stdout",
     "output_type": "stream",
     "text": [
      "Is checksum valid:  True\n",
      "prefix:  0x6f\n",
      "pubkey hash:  531260aa2a199e228c537dfa42c82bea2c7c1f4d\n"
     ]
    }
   ],
   "source": [
    "address = 'mo6CPsdW8EsnWdmSSCrQ6225VVDtpMBTug'\n",
    "address_decoded = decode_base58(address)\n",
    "\n",
    "# Check the checksum is valid\n",
    "decoded = address_decoded[:-4] # everything before the last 4 bytes is the message\n",
    "checksum = address_decoded[-4:] # last 4 bytes are the checksum\n",
    "\n",
    "# Check that the first four bytes of the hash are equal to the checksum\n",
    "print(\"Is checksum valid: \", hash256(decoded)[:4] == checksum)\n",
    "\n",
    "print(\"prefix: \", hex(decoded[0]))\n",
    "\n",
    "pk_hash = decoded[1:]\n",
    "print(\"pubkey hash: \", pk_hash.hex())"
   ]
  },
  {
   "cell_type": "markdown",
   "id": "b5349cb8",
   "metadata": {},
   "source": [
    "#### Pubkey hash to scriptPubKey\n",
    "- The checksum was valid, so it is safe to assume the data was received and read accurately. \n",
    "- The prefix `0x6f` tells us we are creating a scriptPubKey for a P2PKH output on bitcoin regtest.\n",
    "- The last part of the data therefore encodes the pubkey hash, and we can create a P2PKH script with it.\n",
    "\n",
    "To turn the pubkey hash it into a P2PKH scriptPubkey we inset it into the standard P2PKH script format:\n",
    "\n",
    "`OP_DUP OP_HASH160 <pubKeyHash> OP_EQUALVERIFY OP_CHECKSIG`\n",
    "\n",
    "We can look up the corresponding op codes bytes from https://en.bitcoin.it/wiki/Script.\n",
    "\n",
    "Note that in front of `<pubKeyHash>` we need to add an opcode for the length of the hash. Since the pubkey hash is taken from hash160, we have a 20 byte hash, which is `0x14` in hex notation."
   ]
  },
  {
   "cell_type": "code",
   "execution_count": 9,
   "id": "bcdd6a19",
   "metadata": {},
   "outputs": [
    {
     "name": "stdout",
     "output_type": "stream",
     "text": [
      "scriptPubkey:  76a914531260aa2a199e228c537dfa42c82bea2c7c1f4d88ac\n"
     ]
    }
   ],
   "source": [
    "scriptPubkey = bytes.fromhex(\"76a914\" + pk_hash.hex() + \"88ac\")\n",
    "print(\"scriptPubkey: \", scriptPubkey.hex())"
   ]
  },
  {
   "cell_type": "markdown",
   "id": "4f89eeed",
   "metadata": {},
   "source": [
    "## Bech32/Bech32m\n",
    "\n",
    "TODO - The examples below demonstrate using the bech32 encoding/decoding functions. It would be nice for completeness to illustrate bech32 encoding in a more verbose way, similar to the rest of the notebooks. "
   ]
  },
  {
   "cell_type": "code",
   "execution_count": 10,
   "id": "2278c905",
   "metadata": {},
   "outputs": [],
   "source": [
    "import functions.bip_350_bech32_reference as bech32"
   ]
  },
  {
   "cell_type": "markdown",
   "id": "0ef472d7",
   "metadata": {},
   "source": [
    "### Creating a bech32 P2PWKH address from a pubkey\n",
    "Given the pubkey `02466d7fcae563e5cb09a0d1870bb580344804617879a14949cf22285f1bae3f27`, create a p2wpkh address for regtest."
   ]
  },
  {
   "cell_type": "code",
   "execution_count": 11,
   "id": "17eb43bc",
   "metadata": {},
   "outputs": [
    {
     "name": "stdout",
     "output_type": "stream",
     "text": [
      "Bech32 P2WPKH address:  tb1q0n68nma39lfj2swn73hlq4435gc88nkpwvn976\n"
     ]
    }
   ],
   "source": [
    "pubkey = bytes.fromhex(\"02466d7fcae563e5cb09a0d1870bb580344804617879a14949cf22285f1bae3f27\")\n",
    "\n",
    "# Take the hash (hash160) of the pubkey\n",
    "pk_hash = hash160(pubkey)\n",
    "\n",
    "# The human readable part for testnet\n",
    "prefix = 'tb'\n",
    "\n",
    "# 0 for Segwit v0. The function below can also be used for encoding v1 (bech32m) addresses\n",
    "version = 0 \n",
    "\n",
    "# By providing the version number (0), it knows to use bech32 (rather than bech32m) encoding\n",
    "p2wpkh_address = bech32.encode(prefix, version, pk_hash)\n",
    "\n",
    "print('Bech32 P2WPKH address: ', p2wpkh_address)"
   ]
  },
  {
   "cell_type": "markdown",
   "id": "bfe388be",
   "metadata": {},
   "source": [
    "### Creating a bech32 P2WSH address from a redeemScript\n",
    "Here we'll use the same `redeemScript` as from the P2SH multisig script example: "
   ]
  },
  {
   "cell_type": "code",
   "execution_count": 12,
   "id": "ac722f9b",
   "metadata": {},
   "outputs": [
    {
     "name": "stdout",
     "output_type": "stream",
     "text": [
      "Bech32 P2WSH address:  bc1qpy8yjjs2l5neewx722mxve9w6m77zqsu7rldukggseflhwralerqdt85qc\n"
     ]
    }
   ],
   "source": [
    "# Note that unlike P2SH which uses HASH160, for P2WSH we use SHA256\n",
    "script_hash = hashlib.sha256(redeemScript).digest()\n",
    "\n",
    "# The human readable part for mainnet\n",
    "prefix = 'bc'\n",
    "\n",
    "# 0 for Segwit v0. The function below can also be used for encoding v1 (bech32m) addresses\n",
    "version = 0 \n",
    "\n",
    "# By providing the version number (0), it knows to use bech32 (rather than bech32m) encoding\n",
    "p2wsh_address = bech32.encode(prefix, version, script_hash)\n",
    "\n",
    "print('Bech32 P2WSH address: ', p2wsh_address)"
   ]
  },
  {
   "cell_type": "markdown",
   "id": "e9eec8dd",
   "metadata": {},
   "source": [
    "### Creating a bech32m P2TR address from a x-only public key\n",
    "Bech32m uses an almost identical encoding scheme as bech32, but with an additional constant. The imported `bech32` library is able to encode either address format and does so based on the `version` number. A version number of 0 indicates that the output is Segwit v0 and uses bech32, and a version number 1 indicates that the output is Segwit v1 (aka taproot) and uses bech32m.\n",
    "\n",
    "Note that taproot introduces a new format of public key called _x-only_ public keys. For more on this see the note on public keys in '[Elliptic Curve Math Review](https://github.com/DariusParvin/bitcoin-tx-tutorial/blob/main/appendix/elliptic_curve_math_review.ipynb)'.\n",
    "\n",
    "In this example we'll create a P2TR address for the following x-only pubkey `a4af82136997976431f2c76a1179662f04c14f8fdfd24de49a0df51496e733d1`."
   ]
  },
  {
   "cell_type": "code",
   "execution_count": 13,
   "id": "be624b13",
   "metadata": {},
   "outputs": [
    {
     "name": "stdout",
     "output_type": "stream",
     "text": [
      "Bech32m P2TR address:  bcrt1pzpvm7fnxpqzvakdr9p4pvjta0ecxjtg5mszwzgsv9kl0xenmwnmse95m37\n"
     ]
    }
   ],
   "source": [
    "# Note that unlike P2SH which uses HASH160, for P2WSH we use SHA256\n",
    "x_only_pubkey = bytes.fromhex(\"1059bf26660804ced9a3286a16497d7e70692d14dc04e1220c2dbef3667b74f7\")\n",
    "\n",
    "# The human readable part for regtest\n",
    "prefix = 'bcrt'\n",
    "# prefix = 'bc'\n",
    "\n",
    "# 1 for Segwit v1 (taproot). The function below will create a bech32m address\n",
    "version = 1\n",
    "p2tr_address = bech32.encode(prefix, version, x_only_pubkey)\n",
    "\n",
    "print('Bech32m P2TR address: ', p2tr_address)"
   ]
  },
  {
   "cell_type": "markdown",
   "id": "cab36c49",
   "metadata": {},
   "source": [
    "### Decoding a bech32/bech32m address\n",
    "Given a bech32 address, decode it to get the scriptPubKey. We'll use the same address as the previous P2TR bech32m example: `bcrt1p5jhcyymfj7tkgv0jca4pz7tx9uzvznu0mlfymey6ph63f9h8x0gs7683vc`."
   ]
  },
  {
   "cell_type": "code",
   "execution_count": 14,
   "id": "84cc50aa",
   "metadata": {},
   "outputs": [
    {
     "name": "stdout",
     "output_type": "stream",
     "text": [
      "Segwit version:  1\n",
      "Script data:  a4af82136997976431f2c76a1179662f04c14f8fdfd24de49a0df51496e733d1\n",
      "scriptPubKey:  0120a4af82136997976431f2c76a1179662f04c14f8fdfd24de49a0df51496e733d1\n"
     ]
    }
   ],
   "source": [
    "s = bech32.decode('bcrt', 'bcrt1p5jhcyymfj7tkgv0jca4pz7tx9uzvznu0mlfymey6ph63f9h8x0gs7683vc')\n",
    "\n",
    "# First part of the tuple contains the segwit version\n",
    "version = s[0]\n",
    "print('Segwit version: ', version)\n",
    "\n",
    "# Second part of the tuple contains the data for the scriptPubKey\n",
    "script_data = bytearray(s[1])\n",
    "print('Script data: ', script_data.hex())\n",
    "\n",
    "# To turn this into a scriptPubKey, all we need to do is concatenate the bytes, but with \n",
    "# the data prepended by a pushdata operation \n",
    "spk = version.to_bytes(1, 'big') + pushbytes(script_data)\n",
    "print('scriptPubKey: ', spk.hex())"
   ]
  },
  {
   "cell_type": "markdown",
   "id": "4f934466",
   "metadata": {},
   "source": [
    "For the rest of the notebooks, we'll use the following functions to encode or decode bech32/bech32m addresses to and from scriptPubKeys."
   ]
  },
  {
   "cell_type": "code",
   "execution_count": 15,
   "id": "170b511d",
   "metadata": {},
   "outputs": [],
   "source": [
    "# bech32/bech32m\n",
    "def spk_to_bech32(spk, network):\n",
    "    '''Creates a bech32 or bech32m address corresponding to a scriptPubkey'''\n",
    "    version = spk[0] - 0x50 if spk[0] else 0\n",
    "    program = spk[2:]\n",
    "    if network == \"testnet\":\n",
    "        prefix = 'tb'\n",
    "    elif network == \"regtest\":\n",
    "        prefix = 'bcrt'\n",
    "    elif network == \"mainnet\":\n",
    "        prefix = 'bc'\n",
    "    else:\n",
    "        return \"Enter the network: testnet/regtest/mainnet\"\n",
    "    return b32.encode(prefix, version, program)\n",
    "\n",
    "def bech32_to_spk(hrp, address):\n",
    "    '''Decodes a bech32 or bech32m address to a scriptPubkey'''\n",
    "    witver, witprog = b32.decode(hrp, address)\n",
    "    pubkey_hash = bytearray(witprog)\n",
    "    return (\n",
    "        witver.to_bytes(1, byteorder=\"little\", signed=False)\n",
    "        + pushbytes(pubkey_hash)\n",
    "    )"
   ]
  },
  {
   "cell_type": "markdown",
   "id": "b284ae82",
   "metadata": {},
   "source": [
    "## Quiz\n",
    "\n",
    "1. What type of outputs do these address encode? And for what network? \n",
    "    - a `tb1q0n68nma39lfj2swn73hlq4435gc88nkpwvn976`\n",
    "    - b `bcrt1pzpvm7fnxpqzvakdr9p4pvjta0ecxjtg5mszwzgsv9kl0xenmwnmse95m37`\n",
    "    - c `bc1qpy8yjjs2l5neewx722mxve9w6m77zqsu7rldukggseflhwralerqdt85qc`\n",
    "\n",
    "2. Are bitcoin addresses stored on the blockchain? If so, where?"
   ]
  },
  {
   "cell_type": "code",
   "execution_count": 16,
   "id": "acb05aaa",
   "metadata": {
    "code_folding": [
     0
    ]
   },
   "outputs": [],
   "source": [
    "## Answers\n",
    "\n",
    "## Q1.a\n",
    "# bech32_to_spk('tb', 'tb1q0n68nma39lfj2swn73hlq4435gc88nkpwvn976').hex()\n",
    "## 00147cf479efb12fd32541d3f46ff056b1a23073cec1\n",
    "## - testnet P2WPKH\n",
    "\n",
    "## Q1.b\n",
    "# bech32_to_spk('bcrt', 'bcrt1pzpvm7fnxpqzvakdr9p4pvjta0ecxjtg5mszwzgsv9kl0xenmwnmse95m37').hex()\n",
    "## 01201059bf26660804ced9a3286a16497d7e70692d14dc04e1220c2dbef3667b74f7\n",
    "## - regtest P2TR\n",
    "\n",
    "## Q1.c\n",
    "# bech32_to_spk('bc', 'bc1qpy8yjjs2l5neewx722mxve9w6m77zqsu7rldukggseflhwralerqdt85qc').hex()\n",
    "## 0020090e494a0afd279cb8de52b66664aed6fde1021cf0fede59088653fbb87dfe46\n",
    "## - mainnet P2WSH\n",
    "\n",
    "## Q2\n",
    "## Addresses are not stored on the blockchain. They can be derived from the scriptPubKeys though, which are \n",
    "## in the output of a transaction."
   ]
  },
  {
   "cell_type": "markdown",
   "id": "7c0ca2b5",
   "metadata": {},
   "source": [
    "## Further reading\n",
    "- Why are P2WSH addresses are longer than P2SH - [Stack Exchange Answer](https://bitcoin.stackexchange.com/questions/106140/why-are-p2wsh-addresses-larger-than-p2sh-addresses)\n",
    "- TODO - more further reading, PRs welcome!"
   ]
  },
  {
   "cell_type": "code",
   "execution_count": null,
   "id": "0405a628",
   "metadata": {},
   "outputs": [],
   "source": []
  }
 ],
 "metadata": {
  "kernelspec": {
   "display_name": "Python 3",
   "language": "python",
   "name": "python3"
  },
  "language_info": {
   "codemirror_mode": {
    "name": "ipython",
    "version": 3
   },
   "file_extension": ".py",
   "mimetype": "text/x-python",
   "name": "python",
   "nbconvert_exporter": "python",
   "pygments_lexer": "ipython3",
   "version": "3.7.0"
  }
 },
 "nbformat": 4,
 "nbformat_minor": 5
}
