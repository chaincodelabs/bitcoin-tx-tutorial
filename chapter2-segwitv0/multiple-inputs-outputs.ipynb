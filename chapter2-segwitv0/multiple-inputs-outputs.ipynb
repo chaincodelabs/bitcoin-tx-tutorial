{
 "cells": [
  {
   "cell_type": "markdown",
   "metadata": {},
   "source": [
    "# Creating a transaction with multiple inputs and outputs"
   ]
  },
  {
   "cell_type": "markdown",
   "metadata": {},
   "source": [
    "In this section we'll create a P2WPKH transaction with multiple inputs and outputs. We'll go through each part of the transaction, how it's constructed, signed, and we'll test it using bitcoin core in regtest mode.\n",
    "\n",
    "This section assumes knowledge of creating a P2WPKH transaction with a single input.\n",
    "\n",
    "## Prerequisite knowledge\n",
    "- For all notebooks:\n",
    "    - A high level understanding of the bitcoin. e.g. [Mastering Bitcoin](https://github.com/bitcoinbook/bitcoinbook) by Andreas Antonopoulos UTXO model, in particular [Chapter 6](https://github.com/bitcoinbook/bitcoinbook/blob/develop/ch06.asciidoc).\n",
    "    - A conceptual understanding of [hash functions](https://www.thesslstore.com/blog/what-is-a-hash-function-in-cryptography-a-beginners-guide).\n",
    "    - [Hexadecimal notation](https://inst.eecs.berkeley.edu/~cs61bl/r//cur/bits/decimal-binary-hex.html?topic=lab28.topic&step=2&course=) and [endianness](https://www.freecodecamp.org/news/what-is-endianness-big-endian-vs-little-endian/).\n",
    "\n",
    "\n",
    "- Specific to this notebook:\n",
    "    - SHA256, HASH256, HASH160 - '[Hash Functions chapter](https://github.com/DariusParvin/bitcoin-tx-tutorial/blob/main/appendix/hash-functions.ipynb)'\n",
    "    - Base58 addresses - '[Addresses chapter](https://github.com/DariusParvin/bitcoin-tx-tutorial/blob/main/appendix/Addresses.ipynb)'\n",
    "    - Bitcoin Script basics - '[Bitcoin Script chapter](https://github.com/DariusParvin/bitcoin-tx-tutorial/blob/main/appendix/Bitcoin%20Script.ipynb)'\n",
    "    - TestShell setup - '[P2PKH chapter](https://github.com/DariusParvin/bitcoin-tx-tutorial/blob/main/chapter1-legacy/p2pkh.ipynb)'\n"
   ]
  },
  {
   "cell_type": "markdown",
   "metadata": {},
   "source": [
    "## Setup \n",
    "\n",
    "### Requirements\n",
    "For this exercise we'll need Bitcoin Core. This notebook has been tested with [v24.0.1](https://github.com/bitcoin/bitcoin/releases/tag/v24.0.1).\n",
    "\n",
    "Below, set the paths for:\n",
    "1. The bitcoin core functional test framework directory.\n",
    "2. The directory containing bitcoin-tx-tutorial.\n",
    "\n",
    "**You'll need to edit these next two lines for your local setup.**"
   ]
  },
  {
   "cell_type": "code",
   "execution_count": 1,
   "metadata": {},
   "outputs": [],
   "source": [
    "\n",
    "path_to_bitcoin_functional_test = \"/Users/dariuscognac/bitcoin/test/functional\"\n",
    "path_to_bitcoin_tx_tutorial = \"/Users/dariuscognac/Documents/Github/bitcoin-tx-tutorial\"\n",
    "\n",
    "import sys\n",
    "\n",
    "# Add the functional test framework to our PATH\n",
    "sys.path.insert(0, path_to_bitcoin_functional_test)\n",
    "from test_framework.test_shell import TestShell\n",
    "\n",
    "# Add the bitcoin-tx-tutorial functions to our PATH\n",
    "sys.path.insert(0, path_to_bitcoin_tx_tutorial)\n",
    "from functions import *\n",
    "\n",
    "import json"
   ]
  },
  {
   "cell_type": "markdown",
   "metadata": {},
   "source": [
    "### Scenario\n",
    "\n",
    "Andreas and Lisa both want to support three charities, all in foreign countries. The charities accept bitcoin donations, so they decide to send bitcoin jointly in a single transaction. Using a single transaction has a couple of advantages over each of them creating their own transactions:\n",
    "- The single transaction is smaller than two separate ones, saving Andreas and Lisa some btc on transaction fees.\n",
    "- The charities benefit by receiving one UTXO rather than two making it cheaper to spend from. \n",
    "\n",
    "Andreas has a UTXO for 0.3 btc, of which he wants to donate all of it. Lisa has a UTXO for 0.401 and she wants to match Andreas's donation of 0.3 btc. They want to donate 0.2 btc to the following addresses:\n",
    "`bcrt1ql3e9pgs3mmwuwrh95fecme0s0qtn2880hlwwpw`, `bcrt1q6mlqttg852e63uahyglwla55xusryqp08vx9w2`, `bcrt1qe9y40n9uwzh34mzj02w3xx9zkhgke6wxcql4lk`\n",
    "\n",
    "\n",
    "### Create Andreas and Anita's P2WPKH UTXOs\n",
    "\n",
    "We'll use bitcoind to create Andreas and Anita's P2WPKH UTXOs. Within this tutorial, to differentiate the variables for Andreas and Lisa by using the suffixes `_a` and `_l` respectively."
   ]
  },
  {
   "cell_type": "code",
   "execution_count": 2,
   "metadata": {},
   "outputs": [
    {
     "name": "stdout",
     "output_type": "stream",
     "text": [
      "2022-12-08T10:29:45.807000Z TestFramework (INFO): Initializing test directory /var/folders/r5/yk8yg2xs1gs8xzkn5l8vr72w0000gn/T/bitcoin_func_test_ezrqykdy\n",
      "Andreas's UTXO: 5b9c4d176b42349dc2a8cca26d52a3b87c9f8773dd9cacc87003eb4a96cf7044, 0\n",
      "Lisa's UTXO: 050746ee1a49d3273e9819cce6bfa3b8599e46b96b0225c07ceba0ef0e92afd2, 0\n"
     ]
    }
   ],
   "source": [
    "# Create two private keys and P2WPKH addresses\n",
    "privkey_a = bytes.fromhex(\"1111111111111111111111111111111111111111111111111111111111111111\")\n",
    "pubkey_a = privkey_to_pubkey(privkey_a)\n",
    "p2wpkh_addr_a = pk_to_p2wpkh(pubkey_a, network = \"regtest\")\n",
    "\n",
    "privkey_l = bytes.fromhex(\"2222222222222222222222222222222222222222222222222222222222222222\")\n",
    "pubkey_l = privkey_to_pubkey(privkey_l)\n",
    "p2wpkh_addr_l = pk_to_p2wpkh(pubkey_l, network = \"regtest\")\n",
    "\n",
    "# Setup bitcoind and fund addresses\n",
    "node = setup_testshell()\n",
    "txid_a, index_a = fund_address(node, p2wpkh_addr_a, 0.3)\n",
    "txid_l, index_l = fund_address(node, p2wpkh_addr_l, 0.401)\n",
    "\n",
    "print(f\"Andreas's UTXO: {txid_a}, {index_a}\")\n",
    "print(f\"Lisa's UTXO: {txid_l}, {index_l}\")"
   ]
  },
  {
   "cell_type": "markdown",
   "metadata": {},
   "source": [
    "### Define our outputs\n",
    "\n",
    "Since Lisa is only donating 0.3 btc of her 0.401 btc utxo (and 0.001 btc is going towards the mining fee), Lisa wants to send the remaning 0.1 btc to her change address `bcrt1qqde3c4pmvrr9d3pav3v6hlpp9l3sm6rxnj8dcm`.\n",
    "\n",
    "Below we'll decode the output addresses so that we know the output scriptPubkeys. For more on decoding addresses, refer back to the 'Addresses' chapter."
   ]
  },
  {
   "cell_type": "code",
   "execution_count": 3,
   "metadata": {},
   "outputs": [],
   "source": [
    "# Lisa's change output\n",
    "lisa_change_value_sat = int(float(\"0.1\") * 100_000_000)\n",
    "lisa_change_spk = bech32_to_spk('bcrt', 'bcrt1qqde3c4pmvrr9d3pav3v6hlpp9l3sm6rxnj8dcm')\n",
    "\n",
    "# Outputs to charities\n",
    "output1_value_sat = int(float(\"0.2\") * 100_000_000)\n",
    "output1_spk = bech32_to_spk('bcrt', 'bcrt1ql3e9pgs3mmwuwrh95fecme0s0qtn2880hlwwpw')\n",
    "\n",
    "output2_value_sat = int(float(\"0.2\") * 100_000_000)\n",
    "output2_spk = bech32_to_spk('bcrt', 'bcrt1q6mlqttg852e63uahyglwla55xusryqp08vx9w2')\n",
    "\n",
    "output3_value_sat = int(float(\"0.2\") * 100_000_000)\n",
    "output3_spk = bech32_to_spk('bcrt', 'bcrt1qe9y40n9uwzh34mzj02w3xx9zkhgke6wxcql4lk')"
   ]
  },
  {
   "cell_type": "markdown",
   "metadata": {},
   "source": [
    "### Create an unsigned transaction\n",
    "\n",
    "As with the previous chapters, we'll fill in all the fields for our unsigned transaction but with our multiple inputs and outputs."
   ]
  },
  {
   "cell_type": "code",
   "execution_count": 4,
   "metadata": {},
   "outputs": [
    {
     "name": "stdout",
     "output_type": "stream",
     "text": [
      "unsigned_tx:  02000000024470cf964aeb0370c8ac9cdd73879f7cb8a3526da2cca8c29d34426b174d9c5b0000000000ffffffffd2af920eefa0eb7cc025026bb9469e59b8a3bfe6cc19983e27d3491aee4607050000000000ffffffff04002d310100000000160014fc7250a211deddc70ee5a2738de5f07817351cef002d310100000000160014d6fe05ad07a2b3a8f3b7223eeff694372032002f002d310100000000160014c94957ccbc70af1aec527a9d1318a2b5d16ce9c6809698000000000016001403731c543b60c656c43d6459abfc212fe30de86600000000\n"
     ]
    }
   ],
   "source": [
    "# VERSION\n",
    "# version '2' indicates that we may use relative timelocks (BIP68)\n",
    "version = bytes.fromhex(\"0200 0000\")\n",
    "\n",
    "# MARKER (new to segwit)\n",
    "marker = bytes.fromhex(\"00\")\n",
    "\n",
    "# FLAG (new to segwit)\n",
    "flag = bytes.fromhex(\"01\")\n",
    "\n",
    "# INPUTS\n",
    "# We have 2 input\n",
    "input_count = bytes.fromhex(\"02\")\n",
    "\n",
    "# Convert txid and index to bytes (little endian)\n",
    "txid_a = (bytes.fromhex(txid_a))[::-1]\n",
    "index_a = index_a.to_bytes(4, byteorder=\"little\", signed=False)\n",
    "\n",
    "txid_l = (bytes.fromhex(txid_l))[::-1]\n",
    "index_l = index_l.to_bytes(4, byteorder=\"little\", signed=False)\n",
    "\n",
    "\n",
    "# For the unsigned transaction we use an empty scriptSig\n",
    "scriptsig_a = bytes.fromhex(\"\")\n",
    "scriptsig_l = bytes.fromhex(\"\")\n",
    "\n",
    "# use 0xffffffff unless you are using OP_CHECKSEQUENCEVERIFY, locktime, or rbf\n",
    "sequence_a = bytes.fromhex(\"ffff ffff\")\n",
    "sequence_l = bytes.fromhex(\"ffff ffff\")\n",
    "\n",
    "inputs = (\n",
    "    txid_a\n",
    "    + index_a\n",
    "    + varint_len(scriptsig_a)\n",
    "    + scriptsig_a\n",
    "    + sequence_a\n",
    "    + txid_l\n",
    "    + index_l\n",
    "    + varint_len(scriptsig_l)\n",
    "    + scriptsig_l\n",
    "    + sequence_l\n",
    ")\n",
    "\n",
    "# OUTPUTS\n",
    "# 0x04 for four outputs\n",
    "output_count = bytes.fromhex(\"04\")\n",
    "\n",
    "# Convert the values to 8 length byte arrays\n",
    "output1_value = output1_value_sat.to_bytes(8, byteorder=\"little\", signed=False)\n",
    "output2_value = output2_value_sat.to_bytes(8, byteorder=\"little\", signed=False)\n",
    "output3_value = output3_value_sat.to_bytes(8, byteorder=\"little\", signed=False)\n",
    "lisa_change_value = lisa_change_value_sat.to_bytes(8, byteorder=\"little\", signed=False)\n",
    "\n",
    "outputs = (\n",
    "    output1_value\n",
    "    + varint_len(output1_spk)\n",
    "    + output1_spk\n",
    "    + output2_value\n",
    "    + varint_len(output2_spk)\n",
    "    + output2_spk\n",
    "    + output3_value\n",
    "    + varint_len(output3_spk)\n",
    "    + output3_spk\n",
    "    + lisa_change_value\n",
    "    + varint_len(lisa_change_spk)\n",
    "    + lisa_change_spk\n",
    ")\n",
    "\n",
    "# LOCKTIME\n",
    "locktime = bytes.fromhex(\"0000 0000\")\n",
    "\n",
    "unsigned_tx = (\n",
    "    version\n",
    "    + input_count\n",
    "    + inputs\n",
    "    + output_count\n",
    "    + outputs\n",
    "    + locktime\n",
    ")\n",
    "print(\"unsigned_tx: \", unsigned_tx.hex())"
   ]
  },
  {
   "cell_type": "markdown",
   "metadata": {},
   "source": [
    "We can decode this raw transaction to inspect it and see that it has all the information we need apart from the segwit fields (version, marker, and witness)."
   ]
  },
  {
   "cell_type": "code",
   "execution_count": 5,
   "metadata": {},
   "outputs": [
    {
     "name": "stdout",
     "output_type": "stream",
     "text": [
      "{\n",
      "  \"txid\": \"40c6bbde2a1f2f3ea4a3cc8986751fd452b91edb12684b92d853b4a8efa97bb0\",\n",
      "  \"hash\": \"40c6bbde2a1f2f3ea4a3cc8986751fd452b91edb12684b92d853b4a8efa97bb0\",\n",
      "  \"version\": 2,\n",
      "  \"size\": 216,\n",
      "  \"vsize\": 216,\n",
      "  \"weight\": 864,\n",
      "  \"locktime\": 0,\n",
      "  \"vin\": [\n",
      "    {\n",
      "      \"txid\": \"5b9c4d176b42349dc2a8cca26d52a3b87c9f8773dd9cacc87003eb4a96cf7044\",\n",
      "      \"vout\": 0,\n",
      "      \"scriptSig\": {\n",
      "        \"asm\": \"\",\n",
      "        \"hex\": \"\"\n",
      "      },\n",
      "      \"sequence\": 4294967295\n",
      "    },\n",
      "    {\n",
      "      \"txid\": \"050746ee1a49d3273e9819cce6bfa3b8599e46b96b0225c07ceba0ef0e92afd2\",\n",
      "      \"vout\": 0,\n",
      "      \"scriptSig\": {\n",
      "        \"asm\": \"\",\n",
      "        \"hex\": \"\"\n",
      "      },\n",
      "      \"sequence\": 4294967295\n",
      "    }\n",
      "  ],\n",
      "  \"vout\": [\n",
      "    {\n",
      "      \"value\": \"0.20000000\",\n",
      "      \"n\": 0,\n",
      "      \"scriptPubKey\": {\n",
      "        \"asm\": \"0 fc7250a211deddc70ee5a2738de5f07817351cef\",\n",
      "        \"desc\": \"addr(bcrt1ql3e9pgs3mmwuwrh95fecme0s0qtn2880hlwwpw)#luvpmd0q\",\n",
      "        \"hex\": \"0014fc7250a211deddc70ee5a2738de5f07817351cef\",\n",
      "        \"address\": \"bcrt1ql3e9pgs3mmwuwrh95fecme0s0qtn2880hlwwpw\",\n",
      "        \"type\": \"witness_v0_keyhash\"\n",
      "      }\n",
      "    },\n",
      "    {\n",
      "      \"value\": \"0.20000000\",\n",
      "      \"n\": 1,\n",
      "      \"scriptPubKey\": {\n",
      "        \"asm\": \"0 d6fe05ad07a2b3a8f3b7223eeff694372032002f\",\n",
      "        \"desc\": \"addr(bcrt1q6mlqttg852e63uahyglwla55xusryqp08vx9w2)#c2cp77px\",\n",
      "        \"hex\": \"0014d6fe05ad07a2b3a8f3b7223eeff694372032002f\",\n",
      "        \"address\": \"bcrt1q6mlqttg852e63uahyglwla55xusryqp08vx9w2\",\n",
      "        \"type\": \"witness_v0_keyhash\"\n",
      "      }\n",
      "    },\n",
      "    {\n",
      "      \"value\": \"0.20000000\",\n",
      "      \"n\": 2,\n",
      "      \"scriptPubKey\": {\n",
      "        \"asm\": \"0 c94957ccbc70af1aec527a9d1318a2b5d16ce9c6\",\n",
      "        \"desc\": \"addr(bcrt1qe9y40n9uwzh34mzj02w3xx9zkhgke6wxcql4lk)#t4m8q2ue\",\n",
      "        \"hex\": \"0014c94957ccbc70af1aec527a9d1318a2b5d16ce9c6\",\n",
      "        \"address\": \"bcrt1qe9y40n9uwzh34mzj02w3xx9zkhgke6wxcql4lk\",\n",
      "        \"type\": \"witness_v0_keyhash\"\n",
      "      }\n",
      "    },\n",
      "    {\n",
      "      \"value\": \"0.10000000\",\n",
      "      \"n\": 3,\n",
      "      \"scriptPubKey\": {\n",
      "        \"asm\": \"0 03731c543b60c656c43d6459abfc212fe30de866\",\n",
      "        \"desc\": \"addr(bcrt1qqde3c4pmvrr9d3pav3v6hlpp9l3sm6rxnj8dcm)#y7l0a0g8\",\n",
      "        \"hex\": \"001403731c543b60c656c43d6459abfc212fe30de866\",\n",
      "        \"address\": \"bcrt1qqde3c4pmvrr9d3pav3v6hlpp9l3sm6rxnj8dcm\",\n",
      "        \"type\": \"witness_v0_keyhash\"\n",
      "      }\n",
      "    }\n",
      "  ]\n",
      "}\n"
     ]
    }
   ],
   "source": [
    "decoded = node.decoderawtransaction(unsigned_tx.hex())\n",
    "print(json.dumps(decoded, indent=2, default=str))"
   ]
  },
  {
   "cell_type": "markdown",
   "metadata": {},
   "source": [
    "First we'll create Andreas's signature."
   ]
  },
  {
   "cell_type": "code",
   "execution_count": 6,
   "metadata": {},
   "outputs": [
    {
     "name": "stdout",
     "output_type": "stream",
     "text": [
      "Andreas's signature:  30450221009bc6239ba94cda692c0e0903af911ff2e51056f9a42f323b835c10c5488ed0390220570a587a79b9824d378a7c7a916ac973db1efe4db5e1204084e0db616ba818b701\n"
     ]
    }
   ],
   "source": [
    "pk_hash_a = hash160(pubkey_a)\n",
    "scriptcode_a = bytes.fromhex(\"76a914\" + pk_hash_a.hex() + \"88ac\")\n",
    "\n",
    "input_amount_sat_a = int(0.3 * 100_000_000)\n",
    "value_a = input_amount_sat_a.to_bytes(8, byteorder=\"little\", signed=False)\n",
    "\n",
    "# Now that we have multiple inputs, and we are using SIGHASH_ALL, we need to include them in\n",
    "# the sighash calculation under hashPrevOuts and hashSequence\n",
    "hashPrevOuts = hash256(\n",
    "    txid_a\n",
    "    + index_a\n",
    "    + txid_l\n",
    "    + index_l)\n",
    "hashSequence = hash256(sequence_a + sequence_l)\n",
    "\n",
    "hashOutputs = hash256(outputs)\n",
    "sighash_type = bytes.fromhex(\"0100 0000\") # SIGHASH_ALL\n",
    "\n",
    "tx_digest_preimage_a = (\n",
    "    version\n",
    "    + hashPrevOuts\n",
    "    + hashSequence\n",
    "    + txid_a\n",
    "    + index_a\n",
    "    + varint_len(scriptcode_a)\n",
    "    + scriptcode_a\n",
    "    + value_a\n",
    "    + sequence_a\n",
    "    + hashOutputs\n",
    "    + locktime\n",
    "    + sighash_type\n",
    ")\n",
    "sighash_a = hash256(tx_digest_preimage_a)\n",
    "\n",
    "# Sign the sigHash with the input private key\n",
    "signing_key_a = ecdsa.SigningKey.from_string(privkey_a, curve=ecdsa.SECP256k1) \n",
    "signature_a = signing_key_a.sign_digest(sighash_a, sigencode=ecdsa.util.sigencode_der_canonize)\n",
    "\n",
    "# Append SIGHASH_ALL to the signature\n",
    "signature_a = signature_a + bytes.fromhex(\"01\")\n",
    "\n",
    "print(\"Andreas's signature: \", signature_a.hex())"
   ]
  },
  {
   "cell_type": "markdown",
   "metadata": {},
   "source": [
    "Andreas can send Lisa his signature, confident that it can only be used in this exact transaction he's signed over. He has this guarantee because he signed over all the fields of the transaction. If any of these fields of the transaction were to change, his signature would become invalidated. In the next section we'll cover how one can use different sighash flags to sign over only specific parts of a transaction.\n",
    "\n",
    "Now we'll create Lisa's signature."
   ]
  },
  {
   "cell_type": "code",
   "execution_count": 7,
   "metadata": {},
   "outputs": [
    {
     "name": "stdout",
     "output_type": "stream",
     "text": [
      "Lisa's signature:  3045022100968fefff098f7752c4ad1af641d41ab72afb8f1be4f1ce016dc1bdbbc65d86c702202a152e8d57bc9afdb0ca9f87e8376096a260d6448097f06610060227de08133601\n"
     ]
    }
   ],
   "source": [
    "pk_hash_l = hash160(pubkey_l)\n",
    "scriptcode_l = bytes.fromhex(\"76a914\" + pk_hash_l.hex() + \"88ac\")\n",
    "\n",
    "input_amount_sat_l = int(0.401 * 100_000_000)\n",
    "value_l = input_amount_sat_l.to_bytes(8, byteorder=\"little\", signed=False)\n",
    "\n",
    "tx_digest_preimage_l = (\n",
    "    version\n",
    "    + hashPrevOuts\n",
    "    + hashSequence\n",
    "    + txid_l\n",
    "    + index_l\n",
    "    + varint_len(scriptcode_l)\n",
    "    + scriptcode_l\n",
    "    + value_l\n",
    "    + sequence_l\n",
    "    + hashOutputs\n",
    "    + locktime\n",
    "    + sighash_type\n",
    ")\n",
    "sighash_l = hash256(tx_digest_preimage_l)\n",
    "\n",
    "# Sign the sigHash with the input private key\n",
    "signing_key_l = ecdsa.SigningKey.from_string(privkey_l, curve=ecdsa.SECP256k1) \n",
    "signature_l = signing_key_l.sign_digest(sighash_l, sigencode=ecdsa.util.sigencode_der_canonize)\n",
    "\n",
    "# Append SIGHASH_ALL to the signature\n",
    "signature_l = signature_l + bytes.fromhex(\"01\")\n",
    "\n",
    "print(\"Lisa's signature: \", signature_l.hex())"
   ]
  },
  {
   "cell_type": "markdown",
   "metadata": {},
   "source": [
    "Now all we need to do is add the signatures to the witness field. Since we have two inputs, it's important to include the witness elements in the same order as the inputs. Each input has two witness elements, the signature and pubkey."
   ]
  },
  {
   "cell_type": "code",
   "execution_count": 8,
   "metadata": {
    "code_folding": []
   },
   "outputs": [
    {
     "name": "stdout",
     "output_type": "stream",
     "text": [
      "signed transaction:  020000000001024470cf964aeb0370c8ac9cdd73879f7cb8a3526da2cca8c29d34426b174d9c5b0000000000ffffffffd2af920eefa0eb7cc025026bb9469e59b8a3bfe6cc19983e27d3491aee4607050000000000ffffffff04002d310100000000160014fc7250a211deddc70ee5a2738de5f07817351cef002d310100000000160014d6fe05ad07a2b3a8f3b7223eeff694372032002f002d310100000000160014c94957ccbc70af1aec527a9d1318a2b5d16ce9c6809698000000000016001403731c543b60c656c43d6459abfc212fe30de866024830450221009bc6239ba94cda692c0e0903af911ff2e51056f9a42f323b835c10c5488ed0390220570a587a79b9824d378a7c7a916ac973db1efe4db5e1204084e0db616ba818b70121034f355bdcb7cc0af728ef3cceb9615d90684bb5b2ca5f859ab0f0b704075871aa02483045022100968fefff098f7752c4ad1af641d41ab72afb8f1be4f1ce016dc1bdbbc65d86c702202a152e8d57bc9afdb0ca9f87e8376096a260d6448097f06610060227de081336012102466d7fcae563e5cb09a0d1870bb580344804617879a14949cf22285f1bae3f2700000000\n"
     ]
    }
   ],
   "source": [
    "# Witness field\n",
    "witness = (\n",
    "    # First (Andreas's) input\n",
    "    bytes.fromhex(\"02\")\n",
    "    + pushbytes(signature_a)\n",
    "    + pushbytes(pubkey_a)\n",
    "    # Second (Lisa's) input\n",
    "    + bytes.fromhex(\"02\")\n",
    "    + pushbytes(signature_l)\n",
    "    + pushbytes(pubkey_l)\n",
    ")\n",
    "\n",
    "# the final signed transaction\n",
    "signed_tx = (\n",
    "    version\n",
    "    + marker\n",
    "    + flag\n",
    "    + input_count\n",
    "    + inputs\n",
    "    + output_count\n",
    "    + outputs\n",
    "    + witness\n",
    "    + locktime\n",
    ")\n",
    "\n",
    "print(\"signed transaction: \",signed_tx.hex())"
   ]
  },
  {
   "cell_type": "markdown",
   "metadata": {},
   "source": [
    "### Broadcast the transaction (on regtest mode)\n",
    "If we get back a txid (32 byte hash), then it means the tx was successfully broadcast! If we just want to see if the transaction would have been accepted, but without broadcasting it, we can use the `testmempoolaccept` command (commented out)."
   ]
  },
  {
   "cell_type": "code",
   "execution_count": 9,
   "metadata": {},
   "outputs": [
    {
     "name": "stdout",
     "output_type": "stream",
     "text": [
      "40c6bbde2a1f2f3ea4a3cc8986751fd452b91edb12684b92d853b4a8efa97bb0\n"
     ]
    }
   ],
   "source": [
    "new_tx_txid = node.sendrawtransaction(signed_tx.hex())\n",
    "# result = node.testmempoolaccept(rawtxs=[signed_tx.hex()])",
    "print(new_tx_txid)"
   ]
  },
  {
   "cell_type": "markdown",
   "metadata": {},
   "source": [
    "We can decode the serialized transaction using ```decoderawtransaction```. Notice that when we parse the transaction in bitcoind, it matches the witness elements to the inputs based on the order they're entered.\n",
    "\n",
    "Next, we'll see how we can take advantage of the different sighash flags to allow some flexibility in the transaction after one of the inputs has been signed."
   ]
  },
  {
   "cell_type": "code",
   "execution_count": 10,
   "metadata": {},
   "outputs": [
    {
     "name": "stdout",
     "output_type": "stream",
     "text": [
      "{\n",
      "  \"txid\": \"40c6bbde2a1f2f3ea4a3cc8986751fd452b91edb12684b92d853b4a8efa97bb0\",\n",
      "  \"hash\": \"d98f73bab0e1e5adee78c61d95ddc12f249116b73bb9005a3bbb3c3717ef56a2\",\n",
      "  \"version\": 2,\n",
      "  \"size\": 434,\n",
      "  \"vsize\": 271,\n",
      "  \"weight\": 1082,\n",
      "  \"locktime\": 0,\n",
      "  \"vin\": [\n",
      "    {\n",
      "      \"txid\": \"5b9c4d176b42349dc2a8cca26d52a3b87c9f8773dd9cacc87003eb4a96cf7044\",\n",
      "      \"vout\": 0,\n",
      "      \"scriptSig\": {\n",
      "        \"asm\": \"\",\n",
      "        \"hex\": \"\"\n",
      "      },\n",
      "      \"txinwitness\": [\n",
      "        \"30450221009bc6239ba94cda692c0e0903af911ff2e51056f9a42f323b835c10c5488ed0390220570a587a79b9824d378a7c7a916ac973db1efe4db5e1204084e0db616ba818b701\",\n",
      "        \"034f355bdcb7cc0af728ef3cceb9615d90684bb5b2ca5f859ab0f0b704075871aa\"\n",
      "      ],\n",
      "      \"sequence\": 4294967295\n",
      "    },\n",
      "    {\n",
      "      \"txid\": \"050746ee1a49d3273e9819cce6bfa3b8599e46b96b0225c07ceba0ef0e92afd2\",\n",
      "      \"vout\": 0,\n",
      "      \"scriptSig\": {\n",
      "        \"asm\": \"\",\n",
      "        \"hex\": \"\"\n",
      "      },\n",
      "      \"txinwitness\": [\n",
      "        \"3045022100968fefff098f7752c4ad1af641d41ab72afb8f1be4f1ce016dc1bdbbc65d86c702202a152e8d57bc9afdb0ca9f87e8376096a260d6448097f06610060227de08133601\",\n",
      "        \"02466d7fcae563e5cb09a0d1870bb580344804617879a14949cf22285f1bae3f27\"\n",
      "      ],\n",
      "      \"sequence\": 4294967295\n",
      "    }\n",
      "  ],\n",
      "  \"vout\": [\n",
      "    {\n",
      "      \"value\": \"0.20000000\",\n",
      "      \"n\": 0,\n",
      "      \"scriptPubKey\": {\n",
      "        \"asm\": \"0 fc7250a211deddc70ee5a2738de5f07817351cef\",\n",
      "        \"desc\": \"addr(bcrt1ql3e9pgs3mmwuwrh95fecme0s0qtn2880hlwwpw)#luvpmd0q\",\n",
      "        \"hex\": \"0014fc7250a211deddc70ee5a2738de5f07817351cef\",\n",
      "        \"address\": \"bcrt1ql3e9pgs3mmwuwrh95fecme0s0qtn2880hlwwpw\",\n",
      "        \"type\": \"witness_v0_keyhash\"\n",
      "      }\n",
      "    },\n",
      "    {\n",
      "      \"value\": \"0.20000000\",\n",
      "      \"n\": 1,\n",
      "      \"scriptPubKey\": {\n",
      "        \"asm\": \"0 d6fe05ad07a2b3a8f3b7223eeff694372032002f\",\n",
      "        \"desc\": \"addr(bcrt1q6mlqttg852e63uahyglwla55xusryqp08vx9w2)#c2cp77px\",\n",
      "        \"hex\": \"0014d6fe05ad07a2b3a8f3b7223eeff694372032002f\",\n",
      "        \"address\": \"bcrt1q6mlqttg852e63uahyglwla55xusryqp08vx9w2\",\n",
      "        \"type\": \"witness_v0_keyhash\"\n",
      "      }\n",
      "    },\n",
      "    {\n",
      "      \"value\": \"0.20000000\",\n",
      "      \"n\": 2,\n",
      "      \"scriptPubKey\": {\n",
      "        \"asm\": \"0 c94957ccbc70af1aec527a9d1318a2b5d16ce9c6\",\n",
      "        \"desc\": \"addr(bcrt1qe9y40n9uwzh34mzj02w3xx9zkhgke6wxcql4lk)#t4m8q2ue\",\n",
      "        \"hex\": \"0014c94957ccbc70af1aec527a9d1318a2b5d16ce9c6\",\n",
      "        \"address\": \"bcrt1qe9y40n9uwzh34mzj02w3xx9zkhgke6wxcql4lk\",\n",
      "        \"type\": \"witness_v0_keyhash\"\n",
      "      }\n",
      "    },\n",
      "    {\n",
      "      \"value\": \"0.10000000\",\n",
      "      \"n\": 3,\n",
      "      \"scriptPubKey\": {\n",
      "        \"asm\": \"0 03731c543b60c656c43d6459abfc212fe30de866\",\n",
      "        \"desc\": \"addr(bcrt1qqde3c4pmvrr9d3pav3v6hlpp9l3sm6rxnj8dcm)#y7l0a0g8\",\n",
      "        \"hex\": \"001403731c543b60c656c43d6459abfc212fe30de866\",\n",
      "        \"address\": \"bcrt1qqde3c4pmvrr9d3pav3v6hlpp9l3sm6rxnj8dcm\",\n",
      "        \"type\": \"witness_v0_keyhash\"\n",
      "      }\n",
      "    }\n",
      "  ]\n",
      "}\n"
     ]
    }
   ],
   "source": [
    "decoded = node.decoderawtransaction(signed_tx.hex())\n",
    "print(json.dumps(decoded, indent=2, default=str))"
   ]
  },
  {
   "cell_type": "markdown",
   "metadata": {},
   "source": [
    "## Quiz\n",
    "1. Who paid for the fee in this transaction?\n",
    "2. The last byte of the signatures is the sighash type flag, in this case `0x01` which corresponds to `SIGHASH_ALL`. What would prevent Lisa from simply changing this last byte and using Andreas's signature in a different transaction?\n",
    "3. After Andreas sends Lisa his signature, he changes his mind and decides he wants to keep his bitcoin. Is it too late? What could he do to prevent Lisa from spending his input?\n",
    "4. In the witness field, we did not explicitly state which inputs the signatures and pubkeys corresponded to. How did bitcoind know which inputs each one belonged to?"
   ]
  },
  {
   "cell_type": "markdown",
   "metadata": {},
   "source": [
    " ## Answers\n",
    "1. Lisa paid 0.001 btc in fees for the transaction.\n",
    "2. The sighash flag is also included in the sighash calculation. When the bitcoin node attempts to validate the signature, it'll create a sighash using the sighash type from the last byte of the signature. If the sighash flag on the signature is doesn't match the one that was used to create the signed sighash, the resulting signature would not pass.\n",
    "3. Andreas could create a new transaction to spend his own input and broadcast that first.\n",
    "4. The order of the witness fields must correspond to the order of the inputs in the 'inputs' field."
   ]
  },
  {
   "cell_type": "markdown",
   "metadata": {},
   "source": [
    "## Exercise\n",
    "\n",
    "Andreas discovers he has another UTXO for 0.03 btc that he wants to include in this transaction. Use the `fund_address` function to create another UTXO and try including that in the transaction such that it has 3 inputs in total. You may want to re-use Andreas's address for convenience."
   ]
  }
 ],
 "metadata": {
  "kernelspec": {
   "display_name": "Python 3",
   "language": "python",
   "name": "python3"
  },
  "language_info": {
   "codemirror_mode": {
    "name": "ipython",
    "version": 3
   },
   "file_extension": ".py",
   "mimetype": "text/x-python",
   "name": "python",
   "nbconvert_exporter": "python",
   "pygments_lexer": "ipython3",
   "version": "3.7.0"
  }
 },
 "nbformat": 4,
 "nbformat_minor": 2
}
