{
 "cells": [
  {
   "cell_type": "markdown",
   "id": "c5918dfc",
   "metadata": {},
   "source": [
    "# Bitcoin Transaction Overview\n",
    "\n",
    "## Introduction\n",
    "Transactions are perhaps the most important part of the bitcoin protocol. All the other aspects of the bitcoin protocol ultimately serve to verify, secure, and agree upon the order of bitcoin transactions. \n",
    "\n",
    "The first bitcoin transactions created by Satoshi are very different from the typical bitcoin transactions you see on the blockchain today. Over the years there have been a number of upgrades to the bitcoin protocol that have resolved issues such as transaction malleability, and introduced new features such as timelocks and schnorr signatures. \n",
    "\n",
    "To understand how various types of bitcoin transactions work, it's helpful to understand how the earliest transaction types worked, and how new features got introduced. Taken at face value, the protocol can seem strangely written. The design makes more sense when appreciating that all upgrades have used softforks to enable backwards compatibility.\n",
    "\n",
    "With this view in mind, we'll start by looking at the very first transaction types, then work our way chronologically through the various upgrades to arrive at the latest transaction types and features used today. "
   ]
  },
  {
   "cell_type": "markdown",
   "id": "4fecc291",
   "metadata": {},
   "source": [
    "## The first bitcoin transaction\n",
    "\n",
    "Legacy bitcoin transactions have four main components: the version, inputs, outputs, and locktime. To illustrate each of these fields and what they do, we'll go through an example using the first ever bitcoin transaction. On January 11, 2009 at 7:30 PM PST, Satoshi Nakamoto transfered 10 BTC to Hal Finney.\n",
    "\n",
    "This transaction spent a UTXO that was mined directly by Satoshi, where the block reward was 50 BTC. The transaction had two outputs, one to Hal Finney for 10 BTC, and a change output for 40 BTC.\n",
    "\n",
    "Here is the raw serialized transaction in hex, as you'd see it in the blockchain:\n",
    "\n",
    "<font color='#32CD32'>01000000</font><font color='#800000'>01</font><font color='blue'>c997a5e56e104102fa209c6a852dd90660a20b2d9c352423edce25857fcd3704</font><font color='#ADD8E6'>00000000</font><font color='800000'>48</font><font color='#46966b'>47304402204e45e16932b8\n",
    "af514961a1d3a1a25fdf3f4f7732e9d624c6c61548ab5fb8cd410220181522ec8eca07de4860a4acdd12909d831cc56cbbac46220822\n",
    "21a8768d1d0901</font><font color='#30b5a8'>ffffffff</font><font color='#800000'>02</font><font color='#FFD700'>00ca9a3b00000000</font><font color='#800000'>43</font><font color='ff6f1d'>4104ae1a62fe09c5f51b13905f07f06b99a2f7159b2225f374cd378d71302fa28414e7\n",
    "aab37397f554a7df5f142c21c1b7303b8a0626f1baded5c72a704f7e6cd84cac</font><font color='#FFD700'>00286bee00000000</font><font color='#800000'>43</font><font color='ff6f1d'>410411db93e1dcdb8a016b498\n",
    "40f8c53bc1eb68a382e97b1482ecad7b148a6909a5cb2e0eaddfb84ccf9744464f82e160bfa9b8b64f9d4c03f999b8643f656b412a3ac</font><br><font color='#A9A9A9'>00000000</font>"
   ]
  },
  {
   "cell_type": "markdown",
   "id": "b08b8637",
   "metadata": {},
   "source": [
    "### Version\n",
    "- <font color='#32CD32'>01000000</font> - Version number (4-byte signed integer, little endian)\n",
    "\n",
    "The first four bytes of a transaction represents the version number. This number is a way for the transaction to signal what features or consensus rules the transaction may be using. To date, the only feature that uses the version field is relative timelocks (BIP68). A relative timelock will only be enforced if the version field is set to 2. We'll demonstrate this in the chapter on relative timelocks.\n",
    "\n",
    "In the future, version numbers can be used to signal new features that don't currently exist."
   ]
  },
  {
   "cell_type": "markdown",
   "id": "566f3136",
   "metadata": {},
   "source": [
    "### Inputs\n",
    "\n",
    "<font color='#800000'>01</font><font color='blue'>c997a5e56e104102fa209c6a852dd90660a20b2d9c352423edce25857fcd3704</font><font color='#ADD8E6'>00000000</font><font color='#800000'>48</font><font color='#46966b'>47304402204e45e16932b8af51496\n",
    "1a1d3a1a25fdf3f4f7732e9d624c6c61548ab5fb8cd410220181522ec8eca07de4860a4acdd12909d831cc56cbbac4622082221a87<br>68d1d0901</font><font color='#30b5a8'>ffffffff</font>\n",
    "\n",
    "\n",
    "Breaking it down further:\n",
    "- <font color='#800000'>01</font> - Number of inputs (1-9 byte variable integer)\n",
    "\n",
    "This lets us know how many transaction inputs to expect in this transaction. \n",
    "\n",
    "- For each input:\n",
    "    - outpoint\n",
    "        - <font color='blue'>c997a5e56e104102fa209c6a852dd90660a20b2d9c352423edce25857fcd3704</font> - Input txid (32-byte hash big endian)\n",
    "        - <font color='#ADD8E6'>00000000</font> - Index (4-byte integer)        \n",
    "    The outpoint uniquely represents the transaction output being spent by this transaction. The txid represents the transaction, and the index indicates which output is being spent.\n",
    "\n",
    "    - scriptSig\n",
    "        - <font color='#800000'>48</font> - scriptSig length (1-9 byte variable integer)\n",
    "        - <font color='#46966b'>47304402204e45e16932b8af514961a1d3a1a25fdf3f4f7732e9d624c6c61548ab5fb8cd410220181522ec8eca07de48\n",
    "    60a4acdd12909d831cc56cbbac4622082221a8768d1d0901</font> - scriptSig (arbitrary length)   \n",
    "    Since the length of the scriptSig will vary depending on the transaction, it is prepended with its length. This lets us know where the scriptSig ends and where the next field begins.\n",
    "    The scriptSig (aka unlocking script) proves ownership of the input. To evaluate if an input is valid, a node will combine the scriptSig with the scriptPubKey of the transaction referenced by the outpoint. If the script is successfully evaluated and the top stack item is non-zero, the input is considered valid. \n",
    "    - sequence \n",
    "        - <font color='#30b5a8'>ffffffff</font> - (4 bytes)  \n",
    "       In satoshi's initial version of bitcoin, the sequence field had no purpose and was intended for future use for something like a payment channel. The solution didn't work however, and since then the field has been repurposed. It has two uses. The first is to signal 'replace by fee' (RBF). Any value less than `0xfffffffe` will signal for RBF. The second is to for use as relative time-lock. For more on this review the chapter on transaction-level and script-level timelocks."
   ]
  },
  {
   "cell_type": "markdown",
   "id": "a90c1a17",
   "metadata": {},
   "source": [
    "### Outputs\n",
    "\n",
    "<font color='#800000'>02</font><font color='#FFD700'>00ca9a3b00000000</font><font color='#800000'>43</font><font color='ff6f1d'>4104ae1a62fe09c5f51b13905f07f06b99a2f7159b2225f374cd378d71302fa28414e7aab37397f554a7df5\n",
    "    f142c21c1b7303b8a0626f1baded5c72a704f7e6cd84cac</font><font color='#FFD700'>00286bee00000000</font><font color='#800000'>43</font><font color='ff6f1d'>410411db93e1dcdb8a016b49840f8c53bc1eb68\n",
    "a382e97b1482ecad7b148a6909a5cb2e0eaddfb84ccf9744464f82e160bfa9b8b64f9d4c03f999b8643f656b412a3ac</font>\n",
    "\n",
    "\n",
    "\n",
    "Breaking it down:\n",
    "- <font color='#800000'>02</font> - Number of outputs (1-9 byte variable integer)\n",
    "\n",
    "Similar to number of inputs, it lets us know how many outputs to expect in this transaction.\n",
    "\n",
    "- For each output:\n",
    "    - First output:\n",
    "        - <font color='#FFD700'>00ca9a3b00000000</font> - amount in satoshis (8-byte signed integer little endian)\n",
    "        - <font color='#800000'>43</font> - scriptPubkey length (1-9 byte variable integer)\n",
    "        - <font color='#ff6f1d'>4104ae1a62fe09c5f51b13905f07f06b99a2f7159b2225f374cd378d71302fa28414e7aab37397f554a7df5f142c21c1b7\n",
    "    303b8a0626f1baded5c72a704f7e6cd84cac</font> - scriptPubkey (arbitrary length)  \n",
    "     The scriptPubkey (aka locking script) is what secures the output and the amount associated with it. This very first bitcoin transaction uses the outdated 'Pay to pubkey' output type. The scriptPubkey is an uncompressed (65-byte) pubkey, followed by `0xac` which correspeonds to `OP_CHECKSIG`. For more on bitcoin script see the chapter on bitcoin script.\n",
    "    - Second output:\n",
    "        - <font color='#FFD700'>00286bee00000000</font> - amount in satoshis (8-byte signed integer little endian)\n",
    "        - <font color='#800000'>43</font> - scriptPubkey length (1-9 byte variable integer)\n",
    "        - <font color='#ff6f1d'>410411db93e1dcdb8a016b49840f8c53bc1eb68a382e97b1482ecad7b148a6909a5cb2e0eaddfb84ccf9744464f82e160b\n",
    "    fa9b8b64f9d4c03f999b8643f656b412a3ac</font> - scriptPubkey"
   ]
  },
  {
   "cell_type": "markdown",
   "id": "46f5c20b",
   "metadata": {},
   "source": [
    "### Locktime\n",
    "\n",
    "- <font color='#A9A9A9'>00000000</font> - Locktime (4 bytes)\n",
    "\n",
    "The final four bytes are the locktime. The locktime is used to set an absolute timelock on the transaction. The timelock can be expressed in blocks or unix time. Only once this timelock has expired can the transaction be included in a block. We will cover locktime in detail in the chapter on timelocks."
   ]
  },
  {
   "cell_type": "markdown",
   "id": "87b8a482",
   "metadata": {},
   "source": [
    "## Transaction metadata\n",
    "\n",
    "To make more sense of this transaction, we can decode it using the bitcoind command `decoderawtransaction`, or an online web app such as https://btc.com/tools/tx/decode.\n",
    "\n",
    "```\n",
    "{\n",
    "    \"txid\": \"f4184fc596403b9d638783cf57adfe4c75c605f6356fbc91338530e9831e9e16\",\n",
    "    \"hash\": \"f4184fc596403b9d638783cf57adfe4c75c605f6356fbc91338530e9831e9e16\",\n",
    "    \"version\": 1,\n",
    "    \"size\": 275,\n",
    "    \"vsize\": 275,\n",
    "    \"weight\": 1100,\n",
    "    \"locktime\": 0,\n",
    "    \"vin\": [\n",
    "        {\n",
    "            \"txid\": \"0437cd7f8525ceed2324359c2d0ba26006d92d856a9c20fa0241106ee5a597c9\",\n",
    "            \"vout\": 0,\n",
    "            \"scriptSig\": {\n",
    "                \"asm\": \"304402204e45e16932b8af514961a1d3a1a25fdf3f4f7732e9d624c6c61548ab5fb8cd410220181522ec8eca07de4860a4acdd12909d831cc56cbbac4622082221a8768d1d09[ALL]\",\n",
    "                \"hex\": \"47304402204e45e16932b8af514961a1d3a1a25fdf3f4f7732e9d624c6c61548ab5fb8cd410220181522ec8eca07de4860a4acdd12909d831cc56cbbac4622082221a8768d1d0901\"\n",
    "            },\n",
    "            \"sequence\": 4294967295\n",
    "        }\n",
    "    ],\n",
    "    \"vout\": [\n",
    "        {\n",
    "            \"value\": 10,\n",
    "            \"n\": 0,\n",
    "            \"scriptPubKey\": {\n",
    "                \"asm\": \"04ae1a62fe09c5f51b13905f07f06b99a2f7159b2225f374cd378d71302fa28414e7aab37397f554a7df5f142c21c1b7303b8a0626f1baded5c72a704f7e6cd84c OP_CHECKSIG\",\n",
    "                \"hex\": \"4104ae1a62fe09c5f51b13905f07f06b99a2f7159b2225f374cd378d71302fa28414e7aab37397f554a7df5f142c21c1b7303b8a0626f1baded5c72a704f7e6cd84cac\",\n",
    "                \"type\": \"pubkey\"\n",
    "            }\n",
    "        },\n",
    "        {\n",
    "            \"value\": 40,\n",
    "            \"n\": 1,\n",
    "            \"scriptPubKey\": {\n",
    "                \"asm\": \"0411db93e1dcdb8a016b49840f8c53bc1eb68a382e97b1482ecad7b148a6909a5cb2e0eaddfb84ccf9744464f82e160bfa9b8b64f9d4c03f999b8643f656b412a3 OP_CHECKSIG\",\n",
    "                \"hex\": \"410411db93e1dcdb8a016b49840f8c53bc1eb68a382e97b1482ecad7b148a6909a5cb2e0eaddfb84ccf9744464f82e160bfa9b8b64f9d4c03f999b8643f656b412a3ac\",\n",
    "                \"type\": \"pubkey\"\n",
    "            }\n",
    "        }\n",
    "    ]\n",
    "}\n",
    "```"
   ]
  },
  {
   "cell_type": "markdown",
   "id": "ae50f49a",
   "metadata": {},
   "source": [
    "You'll notice that bitcoind outputs some fields at the top which are not defined in the original transaction. We'll go through each field and explain what it is and how it's calculated.\n",
    "\n",
    "#### txid\n",
    "Transactions do not explicitly contain their own transaction ID. Instead, they are calculated by hashing the contents of the transaction. Note that transaction ids are displayed in little endian format, so we'll need to reverse the byte order after performing the hashing operations."
   ]
  },
  {
   "cell_type": "code",
   "execution_count": 1,
   "id": "16f32926",
   "metadata": {},
   "outputs": [
    {
     "name": "stdout",
     "output_type": "stream",
     "text": [
      "Two rounds of SHA256 on the raw tx gives us:  169e1e83e930853391bc6f35f605c6754cfead57cf8387639d3b4096c54f18f4\n",
      "Reversing the bytes to little endian:  f4184fc596403b9d638783cf57adfe4c75c605f6356fbc91338530e9831e9e16\n"
     ]
    }
   ],
   "source": [
    "# store the transaction as bytes \n",
    "raw_tx = bytes.fromhex('0100000001c997a5e56e104102fa209c6a852dd90660a20b2d9c352423edce25857fcd3704000000004847304402204e45e16932b8af514961a1d3a1a25fdf3f4f7732e9d624c6c61548ab5fb8cd410220181522ec8eca07de4860a4acdd12909d831cc56cbbac4622082221a8768d1d0901ffffffff0200ca9a3b00000000434104ae1a62fe09c5f51b13905f07f06b99a2f7159b2225f374cd378d71302fa28414e7aab37397f554a7df5f142c21c1b7303b8a0626f1baded5c72a704f7e6cd84cac00286bee0000000043410411db93e1dcdb8a016b49840f8c53bc1eb68a382e97b1482ecad7b148a6909a5cb2e0eaddfb84ccf9744464f82e160bfa9b8b64f9d4c03f999b8643f656b412a3ac00000000')\n",
    "\n",
    "# import hashlib for sha256\n",
    "import hashlib\n",
    "\n",
    "# first round of sha256\n",
    "hash1 = hashlib.sha256(raw_tx).digest()\n",
    "\n",
    "# second round of sha256 gives us the txid\n",
    "hash2 = hashlib.sha256(hash1).digest()\n",
    "\n",
    "print(\"Two rounds of SHA256 on the raw tx gives us: \", hash2.hex())\n",
    "\n",
    "# We can use the python shorthand '[::-1]' to reverse the bytes, giving us the output in little endian notation\n",
    "txid = hash2[::-1]\n",
    "print(\"Reversing the bytes to little endian: \", txid.hex())"
   ]
  },
  {
   "cell_type": "markdown",
   "id": "915cb598",
   "metadata": {},
   "source": [
    "Note that for segwit transactions (v0 and taproot), their txids calculated on the raw transaction but without the segwit specific fields (flag, marker, witness).\n",
    "\n",
    "#### size, vsize, and weight\n",
    "\n",
    "'size' refers to the size of the transaction in bytes. We can get this in python with `len(raw_tx)`. Knowing the size of a transaction is helpful for calculating a fee rate based on satoshis/byte. \n",
    "\n",
    "Since the introduction of segwit, rather than blocks being limited by 1MB, blocks are instead limited to 4 million _weight units_. With this new rule, each byte in the witness counts as one weight unit, and each byte in the legacy fields count as 4 weight units. Since our transaction was a legacy transaction, every byte counts as 4 weight units, making the total weight of the transaction the `size*4`. 'vsize' is a new term introduced in segwit meaning 'size in virtual bytes'. It is calculated by dividing the weight units by 4, so that one could calculate a satoshi/vbyte fee rate in units comparable to legacy transactions."
   ]
  },
  {
   "cell_type": "code",
   "execution_count": 2,
   "id": "365e6ceb",
   "metadata": {},
   "outputs": [
    {
     "name": "stdout",
     "output_type": "stream",
     "text": [
      "size:  275\n",
      "weight:  1100\n",
      "vsize:  275\n"
     ]
    }
   ],
   "source": [
    "size = len(raw_tx)\n",
    "print(\"size: \", size)\n",
    "\n",
    "weight = size*4\n",
    "print(\"weight: \", weight)\n",
    "\n",
    "import math\n",
    "vsize = math.ceil(weight/4) # Note that vsize/vbytes will round up\n",
    "print(\"vsize: \", vsize)"
   ]
  },
  {
   "cell_type": "markdown",
   "id": "6f52e9e1",
   "metadata": {},
   "source": [
    "## Things that have changed\n",
    "\n",
    "Over the years a number of upgrades and improvements have been made to the bitcoin protocol, allowing for more sophisticated transactions and user friendliness. Below is a preview of some of the main changes that we'll cover in later chapters.\n",
    "\n",
    "- pubkeys - This first ever transaction used an uncompressed 65-byte pubkey. These days 33-byte compressed pubkeys are more common, and for taproot we use 32-byte pubkeys.   \n",
    "- P2PK - The output of this transaction was a 'Pay to Pubkey' which is generally considered obsolete. The standard transaction outputs types involve either paying to a public key hash, a script hash, or a taproot pubkey.\n",
    "- Addresses - The newer standard transaction types have conventions for converting the scriptPubkey into a human readable address. This makes the process of sending and receiving bitcoins more user friendly and less vulnerable to errors.\n",
    "- Script OP_CODES - New script OP_CODES allow for more sophisticated logic in how bitcoin transactions can be locked up/spent.\n",
    "- Segwit - Since segwit, a new witness field was introduced. \n",
    "- Taproot - taproot introduced schnorr signatures, providing a host of privacy and scaling benefits."
   ]
  },
  {
   "cell_type": "markdown",
   "id": "0bda16df",
   "metadata": {},
   "source": [
    "## Coinbase transactions\n",
    "\n",
    "All bitcoins originate from coinbase transactions. Coinbase transactions are the first transaction in every block. The output spends up to the total of the block subsidy and the total of all transaction fees included in the block. As well as being the first transaction in a block, coinbase transactions are unique in that the single 'input' field consists of all zeros.\n",
    "\n",
    "Below is the first ever coinbase transaction. \n",
    "\n",
    "```\n",
    "01000000010000000000000000000000000000000000000000000000000000000000000000ffffffff4d04ffff001d0104455468652054696d65732030332f4a616e2f32303039204368616e63656c6c6f72206f6e206272696e6b206f66207365636f6e64206261696c6f757420666f722062616e6b73ffffffff0100f2052a01000000434104678afdb0fe5548271967f1a67130b7105cd6a828e03909a67962e0ea1f61deb649f6bc3f4cef38c4f35504e51ec112de5c384df7ba0b8d578a4c702b6bf11d5fac00000000\n",
    "```\n",
    "\n",
    "Decoded:\n",
    "```                         \n",
    "{\n",
    "    \"txid\": \"4a5e1e4baab89f3a32518a88c31bc87f618f76673e2cc77ab2127b7afdeda33b\",\n",
    "    \"hash\": \"4a5e1e4baab89f3a32518a88c31bc87f618f76673e2cc77ab2127b7afdeda33b\",\n",
    "    \"version\": 1,\n",
    "    \"size\": 204,\n",
    "    \"vsize\": 204,\n",
    "    \"weight\": 816,\n",
    "    \"locktime\": 0,\n",
    "    \"vin\": [\n",
    "        {\n",
    "            \"coinbase\": \"04ffff001d0104455468652054696d65732030332f4a616e2f32303039204368616e63656c6c6f72206f6e206272696e6b206f66207365636f6e64206261696c6f757420666f722062616e6b73\",\n",
    "            \"sequence\": 4294967295\n",
    "        }\n",
    "    ],\n",
    "    \"vout\": [\n",
    "        {\n",
    "            \"value\": 50,\n",
    "            \"n\": 0,\n",
    "            \"scriptPubKey\": {\n",
    "                \"asm\": \"04678afdb0fe5548271967f1a67130b7105cd6a828e03909a67962e0ea1f61deb649f6bc3f4cef38c4f35504e51ec112de5c384df7ba0b8d578a4c702b6bf11d5f OP_CHECKSIG\",\n",
    "                \"hex\": \"4104678afdb0fe5548271967f1a67130b7105cd6a828e03909a67962e0ea1f61deb649f6bc3f4cef38c4f35504e51ec112de5c384df7ba0b8d578a4c702b6bf11d5fac\",\n",
    "                \"type\": \"pubkey\"\n",
    "            }\n",
    "        }\n",
    "    ]\n",
    "}\n",
    "```"
   ]
  },
  {
   "cell_type": "markdown",
   "id": "0a4a4568",
   "metadata": {},
   "source": [
    "# Questions\n",
    "\n",
    "1. Deconstructing the bitcoin transaction above, you will notice that there are no special characters to mark the beginning or end of the different fields. How is it possible then to parse raw bitcoin transactions?\n",
    "\n",
    "2. While the input to the transaction contains all zeros, the scriptSig seems to have some data in it. What does this data represent? Clue - try decoding the data in a hex to ascii converter."
   ]
  },
  {
   "cell_type": "markdown",
   "id": "3b99a1ec",
   "metadata": {},
   "source": [
    "# Answers\n",
    "\n",
    "1. The fields of a transaction either have a fixed length (e.g. `version` and `locktime` are 4 bytes each), or they are preceeded with a variable integer that denoted how long the next component will be (e.g. 'Number of inputs' and 'scriptSig length').\n",
    "\n",
    "2. Satoshi used this field to encode some arbitrary data with the message: 'The Times 03/Jan/2009 Chancellor on brink of second bailout for banks'"
   ]
  }
 ],
 "metadata": {
  "kernelspec": {
   "display_name": "Python 3",
   "language": "python",
   "name": "python3"
  },
  "language_info": {
   "codemirror_mode": {
    "name": "ipython",
    "version": 3
   },
   "file_extension": ".py",
   "mimetype": "text/x-python",
   "name": "python",
   "nbconvert_exporter": "python",
   "pygments_lexer": "ipython3",
   "version": "3.7.0"
  }
 },
 "nbformat": 4,
 "nbformat_minor": 5
}
