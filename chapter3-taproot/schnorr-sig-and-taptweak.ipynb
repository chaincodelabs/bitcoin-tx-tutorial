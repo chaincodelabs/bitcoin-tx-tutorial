{
 "cells": [
  {
   "cell_type": "code",
   "execution_count": 1,
   "id": "d758f205",
   "metadata": {},
   "outputs": [],
   "source": [
    "from functions import *"
   ]
  },
  {
   "cell_type": "markdown",
   "id": "bc3a8cfb",
   "metadata": {},
   "source": [
    "# Schnorr Signatures and TapTweaks\n",
    "\n",
    "### Reading\n",
    "- [What the heck is Schnorr - Rajarshi Maitra]((https://medium.com/bitbees/what-the-heck-is-schnorr-52ef5dba289f)\n",
    "- https://bitcoin.stackexchange.com/questions/107954/does-every-private-key-have-two-public-keys-ie-y-and-negated-y-secp256k1/107957#107957\n",
    "\n",
    "Related reading\n",
    "- https://github.com/t-bast/lightning-docs/blob/master/schnorr.md\n",
    "\n",
    "The following material adapted from the Bitcoin Optech [Schnorr Taproot workshop](https://bitcoinops.org/en/schorr-taproot-workshop/).\n",
    "\n",
    "\n",
    "## Introduction\n",
    "\n",
    "You may have heard that taproot introduced schnorr signatures, and that taproot signatures have a linear property, but what does this mean? In this section we'll cover some basics of schnorr signatures, and how commitments can be encoded into public keys via taptweaks. By the end of this section you should understand the advantages of schnorr signatures over ECDSA signatures, and how to tweak public and private keys.\n",
    "\n",
    "\n",
    "## Background\n",
    "\n",
    "Since schnorr signatures were only recently introduced in bitcoin in taproot, you may think schnorr signatures were developed after ECDSA signatures, but you'd be wrong. Rajarshi Maitra puts it well in his blog post = [What the heck is Schnorr]((https://medium.com/bitbees/what-the-heck-is-schnorr-52ef5dba289f)\n",
    "\n",
    "> Schnorr signature was invented by Claus-Peter Schnorr back in the 1980s. His digital signature implementation was much simpler than contemporary other algorithms. But he did the worst thing that can ever happen to any kind of knowledge. He patented it before he published the paper. Because of his patent, the Schnorr signature algorithm did not see any widespread use for decades. In fact, ECDSA’s predecessor, DSA was created specifically to bypass the Schnorr patent.\n",
    "\n",
    "One of the ways ECDSA was designed to bypass the Schnorr patent was to break the useful linearity of Schnorr signatures. For this reason the math behind Schnorr signatures is also perhaps more intuitive than ECDSA. \n",
    "\n",
    "Elliptic curve private keys have a linear property, such that the sum of private keys will produce a sum of public keys equal to the sum of the individiual public keys. For a review of this principle, refer to the section '[Elliptic Curve Math Review](https://github.com/DariusParvin/bitcoin-tx-tutorial/blob/main/elliptic_curve_math_review.ipynb)'. With Schnorr signatures, this linearity extends to the signatures themselves. \n",
    "\n",
    "## Schnorr Signatures\n",
    "\n",
    "### x-only pubkeys\n",
    "\n",
    "Taproot uses a new pubkey format known as 'x-only pubkeys' as they contain only the x-coordinate of the public key point. Note that the public key point will always be interpreted as having an even y-coordinate. This means if the secret key produces a public key with an odd y-coordinate, the secret key and public key will need to be negated. For more on this see the 'x-only pubkey' section in the Elliptic Curve Math Review. Below we'll use the reference code from BIP340 for generating the pubkey from the secret key."
   ]
  },
  {
   "cell_type": "markdown",
   "id": "7c4f5e98",
   "metadata": {},
   "source": [
    "\n",
    "\n"
   ]
  },
  {
   "cell_type": "code",
   "execution_count": 2,
   "id": "3e6b7f7d",
   "metadata": {},
   "outputs": [],
   "source": [
    "def pubkey_gen(seckey: bytes) -> bytes:\n",
    "    d0 = tr.int_from_bytes(seckey)\n",
    "    if not (1 <= d0 <= tr.n - 1):\n",
    "        raise ValueError('The secret key must be an integer in the range 1..n-1.')\n",
    "    P = tr.point_mul(tr.G, d0)\n",
    "    assert P is not None\n",
    "    return tr.bytes_from_point(P)"
   ]
  },
  {
   "cell_type": "markdown",
   "id": "2ca20106",
   "metadata": {},
   "source": [
    "#### Recap of creating and verifying schnorr signatures\n",
    "\n",
    "Below is a basic example of creating a private and public keypair, signing the message 'msg', then verifying it."
   ]
  },
  {
   "cell_type": "code",
   "execution_count": 3,
   "id": "531055c8",
   "metadata": {},
   "outputs": [
    {
     "name": "stdout",
     "output_type": "stream",
     "text": [
      "Private key: 0000000000000000000000000000000000000000000000000000000000000001\n",
      "Public key: 79be667ef9dcbbac55a06295ce870b07029bfcdb2dce28d959f2815b16f81798\n",
      "\n",
      "Signature: 4791b03f4381ddd5f22847d1c736e64d1d8d02f90af83a1373bb6392aae8d132660cc589d47e13a40c6bce2a408887d56f7ecac3895b9a9e5d75fe78b6f2478e\n",
      "\n",
      "Success!\n"
     ]
    }
   ],
   "source": [
    "# Generate a key pair\n",
    "privkey = bytes.fromhex(\"0000000000000000000000000000000000000000000000000000000000000001\")\n",
    "pubkey = pubkey_gen(privkey)\n",
    "print(f\"Private key: {privkey.hex()}\\nPublic key: {pubkey.hex()}\\n\")\n",
    "\n",
    "msg = sha256(b'msg')\n",
    "aux_rand = bytes(32) # auxiliary random data\n",
    "sig = tr.schnorr_sign(msg, privkey, aux_rand)\n",
    "print(f\"Signature: {sig.hex()}\\n\")\n",
    "\n",
    "assert(tr.schnorr_verify(msg, pubkey, sig))\n",
    "print(\"Success!\")"
   ]
  },
  {
   "cell_type": "markdown",
   "id": "ce422bbc",
   "metadata": {},
   "source": [
    "## TapTweaks\n",
    "\n",
    "* Part 1: Tweaking the public key; insecure commitment schemes with tweaks\n",
    "* Part 2: Secure 'Pay to contract' commitment scheme\n",
    "\n",
    "### What is a 'taptweak'?\n",
    "\n",
    "The linear property of BIP340 means that we can encode a commitment into a public key, and then reveal that commitment when signing with the private key. We do that by tweaking the private key with the commitment, and using the associated tweaked pubkey. When signing, we can reveal that the original keys were tweaked by the commitment.\n",
    "\n",
    "In part 1, we'll learn about how private/public key pairs can be tweaked, and how we can use that to create a secure commitment scheme. In part 2, we'll create a segwit v1 output and spend it along the key path, using a tweaked private and public key. Part 3 of this chapter is a case study, showing how pay-to-contract with tweaked keys can be used instead of OP_RETURN outputs to create timestamped commitments.\n",
    "\n",
    "## Part 1: Tweaking the public key\n",
    "\n",
    "Instead of using our original public key as the witness program, we use a tweaked public key.\n",
    "\n",
    "* `[01] [32B Tweaked Public Key]`\n",
    "\n",
    "Tweaking a public key means to alter it with a value (the tweak) such that it remains spendable with knowledge of the original private key and tweak.\n",
    "\n",
    "* `x` / `P`: Original private key / public key pair\n",
    "* `t` / `T`: Tweak value / tweak point\n",
    "* Output script: `[01] [P + T]` = `[01] [xG + tG]`\n",
    "* Spendable by the tweaked private key: `x + t`\n",
    "\n",
    "An observer cannot distinguish between a tweaked and untweaked public key."
   ]
  },
  {
   "cell_type": "markdown",
   "id": "447263ce",
   "metadata": {},
   "source": [
    "### Signing with a tweaked keypair (insecure method)\n",
    "\n",
    "In this example, we generate a key pair as before, and then tweak both the private key and public key. We then sign with the tweaked private key and verify that the signature is valid.\n",
    "\n",
    "A _tweak_ is positive scalar value `t` where `0 < t < SECP256K1_ORDER`. There is an associated tweak point `T` such that `T = t*G`.\n",
    "\n",
    "The private key is tweaked by the tweak scalar: `x' = x + t` and the public key is tweaked by the tweak point: `P' = P + T`.\n",
    "\n",
    "The tweaked private key `x'` can be used to produce a valid signature for the tweaked pubkey `P'`.\n",
    "\n",
    "Here, we are going to tweak the key pair using data representing a contract. The idea of this commitment is that the sender can encode this data into the public key, and later reveal the tweak, revealing the commitment. As we will see later on though, the method we use here won't be secure."
   ]
  },
  {
   "cell_type": "code",
   "execution_count": 4,
   "id": "5953a2c1",
   "metadata": {},
   "outputs": [
    {
     "name": "stdout",
     "output_type": "stream",
     "text": [
      "We can generate the tweaked pubkey using two methods\n",
      "Tweaked pubkey generated using tweaked private key:  9cb4c69dbe5678869d52e5c875681cf2f02ea689bc6152ce9e1fb624189349b0\n",
      "Tweaked pubkey generated without private key:  9cb4c69dbe5678869d52e5c875681cf2f02ea689bc6152ce9e1fb624189349b0\n",
      "\n",
      "The signature produced with the tweaked private key was valid against the tweaked public key!\n"
     ]
    }
   ],
   "source": [
    "# Generate a key pair\n",
    "privkey = bytes.fromhex(\"0000000000000000000000000000000000000000000000000000000000000004\")\n",
    "\n",
    "# Set the private key to an integer for elliptic curve operations\n",
    "d0 = int.from_bytes(privkey, byteorder=\"big\")\n",
    "\n",
    "# Compute pubkey, but if it's odd we'll need to negate the privkey\n",
    "P0 = tr.point_mul(tr.G, d0)\n",
    "\n",
    "# We need this step to make sure we negate pubkeys with odd y-coordinates\n",
    "d = d0 if tr.has_even_y(P0) else tr.SECP256K1_ORDER - d0\n",
    "\n",
    "# Generate the public key. Note that we don't use the function pubkey_gen as\n",
    "# we want the full point (not just the x-coordinate)\n",
    "P = tr.point_mul(tr.G, d)\n",
    "\n",
    "# The contract data we want to commit to\n",
    "contract = \"Alice agrees to pay 10 BTC to Bob\"\n",
    "contract_data = sha256(contract.encode('utf-8'))\n",
    "\n",
    "# The tweak will commit to the contract data\n",
    "tweak_int = tr.int_from_bytes(contract_data)\n",
    "\n",
    "# Generate the tweak point\n",
    "T = tr.point_mul(tr.G, tweak_int)\n",
    "\n",
    "# Generate the tweaked pubkey by adding the tweak point and pubkey\n",
    "TW = tr.point_add(P, T)\n",
    "\n",
    "# Extract the x-coordinate for our final tweaked x-only pubkey\n",
    "tweaked_x_only_pubkey = tr.bytes_from_int(tr.x(TW))\n",
    "\n",
    "\n",
    "# We can check that we get the same pubkey when generating they pubkey using the tweaked secret key\n",
    "tweaked_privkey_int = (d + tweak_int) % tr.SECP256K1_ORDER\n",
    "pubkey_from_tweaked_privkey = pubkey_gen(tr.bytes_from_int(tweaked_privkey_int))\n",
    "\n",
    "assert(tweaked_x_only_pubkey == pubkey_from_tweaked_privkey)\n",
    "print(\"We can generate the tweaked pubkey using two methods\")\n",
    "print(\"Tweaked pubkey generated using tweaked private key: \", tweaked_x_only_pubkey.hex())\n",
    "print(\"Tweaked pubkey generated without private key: \", pubkey_from_tweaked_privkey.hex())\n",
    "\n",
    "\n",
    "# Just to show that tweaked private keys and public keys behave the same as non-tweaked key pairs,\n",
    "# we'll sign the message with tweaked key pair and verify the signature\n",
    "msg = sha256(b'msg')\n",
    "aux = bytes(32)\n",
    "sig = tr.schnorr_sign(msg, tr.bytes_from_int(tweaked_privkey_int), aux_rand)\n",
    "\n",
    "assert(tr.schnorr_verify(msg, pubkey_from_tweaked_privkey, sig))\n",
    "print(\"\\nThe signature produced with the tweaked private key was valid against the tweaked public key!\")"
   ]
  },
  {
   "cell_type": "markdown",
   "id": "23e6c29a",
   "metadata": {},
   "source": [
    "### Demonstrating why this commitment method is insecure\n",
    "\n",
    "Now, we will show why the above method is not secure. The linear property of schnorr signatures which allows us to commit to tweaks is the same property that makes the above method insecure. Given the tweaked private key, we can simply subtract the tweak value of what the attacker wants to pretend to have committed to, in order to calculate a corresponding private-public key pair. The attacker would then be able to reveal the modified tweak data as though it was committed to when creating the tweaked public key. "
   ]
  },
  {
   "cell_type": "code",
   "execution_count": 5,
   "id": "47cadb23",
   "metadata": {},
   "outputs": [
    {
     "name": "stdout",
     "output_type": "stream",
     "text": [
      "Original private key:  0000000000000000000000000000000000000000000000000000000000000004\n",
      "Contract being committed to:  Alice agrees to pay 10 BTC to Bob\n",
      "Tweaked pubkey :  9cb4c69dbe5678869d52e5c875681cf2f02ea689bc6152ce9e1fb624189349b0\n",
      "\n",
      "Modify the contract to:  Alice agrees to pay 0.1 BTC to Bob\n",
      "\n",
      "Calculate a new private key by subtracting the modified contract from the previous tweaked private key\n",
      "New private key:  5ddf2900cc4058ccb0e60378da37ffbfcd276c24ea39e4925824f5c4fce2110c\n",
      "\n",
      "Resulting in the same tweaked pubkey as with the previous commitment!\n",
      "Tweaked pubkey :  9cb4c69dbe5678869d52e5c875681cf2f02ea689bc6152ce9e1fb624189349b0\n"
     ]
    }
   ],
   "source": [
    "# The original values for reference\n",
    "print(\"Original private key: \", privkey.hex())\n",
    "print(\"Contract being committed to: \", contract)\n",
    "print(\"Tweaked pubkey : \", pubkey_from_tweaked_privkey.hex())\n",
    "\n",
    "# We create a modified version of the contract that we will pretend to have committed to\n",
    "modified_contract = \"Alice agrees to pay 0.1 BTC to Bob\"\n",
    "modified_tweak_int = tr.int_from_bytes(sha256(modified_contract.encode('utf-8')))\n",
    "print(\"\\nModify the contract to: \", modified_contract)\n",
    "\n",
    "# Since we want to arrive at the same tweaked public key, we need to end up with the same tweaked private key\n",
    "# when our private key is tweaked with our altered contract. Since tweaking is just an addition operation, to\n",
    "# calculate the new (deceptive) private key all we need to do is subtract the altered contract's value from \n",
    "# the tweaked private key.\n",
    "modified_d = (tweaked_privkey_int - modified_tweak_int) % tr.SECP256K1_ORDER\n",
    "print(\"\\nCalculate a new private key by subtracting the modified contract from the previous tweaked private key\")\n",
    "print(\"New private key: \", tr.bytes_from_int(modified_d).hex())\n",
    "\n",
    "# Calculate the public key corresponding to our adjusted private key\n",
    "modified_P = tr.point_mul(tr.G, modified_d)\n",
    "\n",
    "# Calculate the tweak point of the modified contract\n",
    "modified_T = tr.point_mul(tr.G, modified_tweak_int)\n",
    "\n",
    "# Calculate the tweaked public key with the modified contract\n",
    "modified_TW = tr.point_add(modified_P, modified_T)\n",
    "\n",
    "# Convert the tweaked public key to a x-only pubkey\n",
    "modified_tweaked_pubkey = tr.bytes_from_int(tr.x(modified_TW))\n",
    "modified_tweaked_pubkey.hex()\n",
    "\n",
    "# And now we can verify that we arrive at the same tweaked pubkey!\n",
    "assert(tweaked_x_only_pubkey == modified_tweaked_pubkey)\n",
    "\n",
    "print(\"\\nResulting in the same tweaked pubkey as with the previous commitment!\")\n",
    "print(\"Tweaked pubkey : \", modified_tweaked_pubkey.hex())"
   ]
  },
  {
   "cell_type": "markdown",
   "id": "df773deb",
   "metadata": {},
   "source": [
    "## Part 2: Secure commitment schemes with tweaks\n",
    "\n",
    "Taproot uses the tweak as a commitment for spending script paths. However, simply applying the committed value as a public key tweak is not sufficient, as this does not represent a secure cryptographic commitment.\n",
    "\n",
    "![test](../images/taproot-workshop/taptweak0.jpg)\n",
    "\n",
    "Instead, the committed value must first be hashed with the untweaked public key point. This commitment scheme is called *pay-to-contract*. **It does not allow the modification of a committed value for a given public key point Q.**"
   ]
  },
  {
   "cell_type": "markdown",
   "id": "16b43816",
   "metadata": {},
   "source": [
    "### Pay-to-contract: Tweaking the pubkey with `H(P|msg)`\n",
    "\n",
    "In this example, we demonstrate a _secure_ commitment scheme called pay-to-contract. The private key is tweaked with the scalar `H(P|c)`. Since `P` appears both inside and outside the hash, it isn't possible to solve for a different contract `c` by modifying `x`."
   ]
  },
  {
   "cell_type": "code",
   "execution_count": 6,
   "id": "c0a78ea7",
   "metadata": {},
   "outputs": [],
   "source": [
    "# Generate a key pair\n",
    "privkey = bytes.fromhex(\"0000000000000000000000000000000000000000000000000000000000000004\")\n",
    "\n",
    "# Set the private key to an integer for elliptic curve operations\n",
    "d0 = int.from_bytes(privkey, byteorder=\"big\")\n",
    "\n",
    "# Compute pubkey, but if it's odd we'll need to negate the privkey\n",
    "P0 = tr.point_mul(tr.G, d)\n",
    "\n",
    "# We need this step to make sure we negate pubkeys with odd y-coordinates\n",
    "d = d0 if tr.has_even_y(P0) else tr.SECP256K1_ORDER - d0\n",
    "\n",
    "# Generate the public key. Note that we don't use the function pubkey_gen as\n",
    "# we want the full point (not just the x-coordinate)\n",
    "P = tr.point_mul(tr.G, d)\n",
    "\n",
    "# The contract data we want to commit to\n",
    "contract = \"Alice agrees to pay 10 BTC to Bob\"\n",
    "\n",
    "# The tweak will commit to the contract data as well as the original pubkey to protect\n",
    "# against the vulnerability mentioned in the previous part\n",
    "tweak_int = tr.int_from_bytes(tr.tagged_hash(\"TapTweak\", tr.bytes_from_int(tr.x(P)) + contract.encode('utf-8')))\n",
    "\n",
    "# Generate the tweak point\n",
    "T = tr.point_mul(tr.G, tweak_int)\n",
    "\n",
    "# Generate the tweaked pubkey by adding the tweak point and pubkey\n",
    "TW = tr.point_add(P, T)\n",
    "\n",
    "# Extract the x-coordinate for our final tweaked x-only pubkey\n",
    "tweaked_x_only_pubkey = tr.bytes_from_int(tr.x(TW))"
   ]
  },
  {
   "cell_type": "markdown",
   "id": "b7f47867",
   "metadata": {},
   "source": [
    "By including the public key in the hash preimage of the tweak data, it becomes impossible to modify the tweak data as we did previously. If we tried to do so, once we calculate a new private key, the public key would change, changing the contents of the hash that forms the tweak data."
   ]
  }
 ],
 "metadata": {
  "kernelspec": {
   "display_name": "Python 3",
   "language": "python",
   "name": "python3"
  },
  "language_info": {
   "codemirror_mode": {
    "name": "ipython",
    "version": 3
   },
   "file_extension": ".py",
   "mimetype": "text/x-python",
   "name": "python",
   "nbconvert_exporter": "python",
   "pygments_lexer": "ipython3",
   "version": "3.7.0"
  }
 },
 "nbformat": 4,
 "nbformat_minor": 5
}
