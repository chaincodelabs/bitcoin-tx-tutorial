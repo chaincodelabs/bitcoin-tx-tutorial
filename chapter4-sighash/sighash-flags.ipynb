{
 "cells": [
  {
   "cell_type": "markdown",
   "metadata": {},
   "source": [
    "# Sighash flags\n",
    "\n",
    "\n",
    "## Background\n",
    "- Raghav Sood has an excellent [blog](https://raghavsood.com/blog/2018/06/10/bitcoin-signature-types-sighash) covering the different sighash flags, their explanations and some examples of how they might be used.\n",
    "- Note that taproot defines a [new sighash](https://github.com/bitcoin/bips/blob/master/bip-0341.mediawiki#common-signature-message) `SIGHASH_DEFAULT` (`0x00`). This sighash flag signs over the whole transaction as with `SIGHASH_ALL`, the only difference is that the sighash is not appended to the signature in the transaction, saving a byte."
   ]
  },
  {
   "cell_type": "markdown",
   "metadata": {},
   "source": [
    "## Prerequisite knowledge\n",
    "- For all notebooks:\n",
    "    - A high level understanding of the bitcoin. e.g. [Mastering Bitcoin](https://github.com/bitcoinbook/bitcoinbook) by Andreas Antonopoulos UTXO model, in particular [Chapter 6](https://github.com/bitcoinbook/bitcoinbook/blob/develop/ch06.asciidoc).\n",
    "    - A conceptual understanding of [hash functions](https://www.thesslstore.com/blog/what-is-a-hash-function-in-cryptography-a-beginners-guide).\n",
    "    - [Hexadecimal notation](https://inst.eecs.berkeley.edu/~cs61bl/r//cur/bits/decimal-binary-hex.html?topic=lab28.topic&step=2&course=) and [endianness](https://www.freecodecamp.org/news/what-is-endianness-big-endian-vs-little-endian/).\n",
    "\n",
    "\n",
    "- Specific to this notebook:\n",
    "    - SHA256, HASH256, HASH160 - '[Hash Functions chapter](https://github.com/DariusParvin/bitcoin-tx-tutorial/blob/main/appendix/hash-functions.ipynb)'\n",
    "    - Base58 addresses - '[Addresses chapter](https://github.com/DariusParvin/bitcoin-tx-tutorial/blob/main/appendix/Addresses.ipynb)'\n",
    "    - Bitcoin Script basics - '[Bitcoin Script chapter](https://github.com/DariusParvin/bitcoin-tx-tutorial/blob/main/appendix/Bitcoin%20Script.ipynb)'\n",
    "    - TestShell setup - '[P2PKH chapter](https://github.com/DariusParvin/bitcoin-tx-tutorial/blob/main/chapter1-legacy/p2pkh.ipynb)'\n",
    "\n",
    "\n",
    "## Setup \n",
    "\n",
    "### Requirements\n",
    "For this exercise we'll need Bitcoin Core. This notebook has been tested with [v24.0.1](https://github.com/bitcoin/bitcoin/releases/tag/v24.0.1).\n",
    "\n",
    "Below, set the paths for:\n",
    "1. The bitcoin core functional test framework directory.\n",
    "2. The directory containing bitcoin-tx-tutorial.\n",
    "\n",
    "**You'll need to edit these next two lines for your local setup.**"
   ]
  },
  {
   "cell_type": "code",
   "execution_count": 1,
   "metadata": {},
   "outputs": [],
   "source": [
    "path_to_bitcoin_functional_test = \"/Users/dariuscognac/bitcoin/test/functional\"\n",
    "path_to_bitcoin_tx_tutorial = \"/Users/dariuscognac/Documents/Github/bitcoin-tx-tutorial\"\n",
    "\n",
    "import sys\n",
    "\n",
    "# Add the functional test framework to our PATH\n",
    "sys.path.insert(0, path_to_bitcoin_functional_test)\n",
    "from test_framework.test_shell import TestShell\n",
    "\n",
    "# Add the bitcoin-tx-tutorial functions to our PATH\n",
    "sys.path.insert(0, path_to_bitcoin_tx_tutorial)\n",
    "from functions import *\n",
    "from functions.bip_0340_reference import *\n",
    "\n",
    "import json"
   ]
  },
  {
   "cell_type": "markdown",
   "metadata": {},
   "source": [
    "## Scenario\n",
    "\n",
    "### Problem\n",
    "Jose is running a restaurant in El Salvador where most customers pay in bitcoin over the lightning network. He uses a hot wallet for his day to day business expenses, and a cold wallet for storing longer term savings. The signing device for his cold wallet is stored in a safe in his home town that he visits twice a year. \n",
    "\n",
    "It's Christmas and Jose is visiting home. He reflects on the past year of business and decides to relocate his restaurant to a larger location that an serve more customers. He knows he'll need to move some funds out of his cold storage but he'll have to go back to his restaurant before he figures out who he'll pay for the contract. The problem he faces is that he'd like to use the funds from his cold wallet a few weeks in the future when he's back at his restaurant, but it's only convenient for him to spend from it while he's at home with the offline signer.\n",
    "\n",
    "He could create a transaction to transfer funds to his hot wallet, but he feels uncomfortable with relying on the hot wallet for storing larger amounts of bitcoin. What other option does Jose have?\n",
    "\n",
    "### Solution\n",
    "To solve this problem, uses a two step solution using a transaction that spends one input from his cold wallet (then amount he wants to transfer), and a second input from his hot wallet.\n",
    "\n",
    "In the first step, while he is at home with his offline signer, he creates a partially signed transaction that spends from a large UTXOs from his cold wallet and a small UTXO from his hot wallet. He only creates a signature to spend the large input from the cold wallet, leaving the other input to sign later. Importantly, he uses the `SIGHASH_NONE` sighash flag as it does not commit to any outputs, meaning he can set it to contractor's address later. \n",
    "\n",
    "In the second step, after he has figured out who he will pay for the contract, he creates the rest of the transaction by filling in the outputs, and creating a signature on the second input. For the second input he creates a signature using the `SIGHASH_ALL` flag, committing to all the outputs"
   ]
  },
  {
   "cell_type": "markdown",
   "metadata": {},
   "source": [
    "## Setup\n",
    "\n",
    "To begin this scenario, we'll create two UTXOs for Jose, one representing a UTXO from his cold wallet, and another from his hot (lightning) wallet."
   ]
  },
  {
   "cell_type": "code",
   "execution_count": 2,
   "metadata": {},
   "outputs": [],
   "source": [
    "# Create addresses for Jose's cold and hot wallet UTXOs that we'll fund as part of the setup.\n",
    "cold_privkey = bytes.fromhex(\"11f9ed113402e4969b711c5dc4cb750be6c022e9958a9a01fbd10bd68176bf92\")\n",
    "cold_pubkey = tr.pubkey_gen(cold_privkey)\n",
    "cold_spk = bytes.fromhex(\"5120\") + cold_pubkey\n",
    "cold_address = spk_to_bech32(cold_spk, 'regtest')\n",
    "\n",
    "hot_privkey = bytes.fromhex(\"1111111111111111111111111111111111111111111111111111111111111111\")\n",
    "hot_pubkey = tr.pubkey_gen(hot_privkey)\n",
    "hot_spk = bytes.fromhex(\"5120\") + hot_pubkey\n",
    "hot_address = spk_to_bech32(hot_spk, 'regtest')"
   ]
  },
  {
   "cell_type": "markdown",
   "metadata": {},
   "source": [
    "Now we are ready to set up the bitcoin `TestShell` and fund the addresses. "
   ]
  },
  {
   "cell_type": "code",
   "execution_count": 3,
   "metadata": {},
   "outputs": [
    {
     "name": "stdout",
     "output_type": "stream",
     "text": [
      "2022-12-08T11:02:52.304000Z TestFramework (INFO): Initializing test directory /var/folders/r5/yk8yg2xs1gs8xzkn5l8vr72w0000gn/T/bitcoin_func_test_iwmc14gg\n",
      "Cold wallet UTXO: 6697e6a4cb3d06f4c8342583d8158a51513aedfa404514f4af740a222371431d, 0\n",
      "Hot wallet UTXO: 57bc2605d0218b4709f3eed074e998b51dd6998723a1024002f51df40c3f5044, 1\n"
     ]
    }
   ],
   "source": [
    "# Setup bitcoind and fund the addresses\n",
    "node = setup_testshell()\n",
    "cold_txid, cold_index = fund_address(node, cold_address, 2.001)\n",
    "hot_txid, hot_index = fund_address(node, hot_address, 0.101)\n",
    "print(f\"Cold wallet UTXO: {cold_txid}, {cold_index}\")\n",
    "print(f\"Hot wallet UTXO: {hot_txid}, {hot_index}\")"
   ]
  },
  {
   "cell_type": "markdown",
   "metadata": {},
   "source": [
    "## Part 1: Sign the first input with SIGHASH_NONE\n",
    "\n",
    "In the first step, Jose creates a partial transaction defining all the fields apart from the outputs. The main purpose of this first step is to create a signature which can then be used to complete the final transaction once the outputs are known."
   ]
  },
  {
   "cell_type": "code",
   "execution_count": 4,
   "metadata": {},
   "outputs": [],
   "source": [
    "# VERSION\n",
    "version = bytes.fromhex(\"0200 0000\")\n",
    "\n",
    "# MARKER (new to segwit)\n",
    "marker = bytes.fromhex(\"00\")\n",
    "\n",
    "# FLAG (new to segwit)\n",
    "flag = bytes.fromhex(\"01\")\n",
    "\n",
    "# INPUTS\n",
    "input_count = bytes.fromhex(\"02\")\n",
    "\n",
    "# Convert txid and index to bytes (little endian)\n",
    "c_txid = (bytes.fromhex(cold_txid))[::-1]\n",
    "c_index = cold_index.to_bytes(4, byteorder=\"little\", signed=False)\n",
    "h_txid = (bytes.fromhex(hot_txid))[::-1]\n",
    "h_index = hot_index.to_bytes(4, byteorder=\"little\", signed=False)\n",
    "\n",
    "# For segwit transactions the scriptSig is left empty\n",
    "scriptsig = bytes.fromhex(\"\")\n",
    "\n",
    "# use 0xffffffff unless you are using OP_CHECKSEQUENCEVERIFY, locktime, or rbf\n",
    "sequence = bytes.fromhex(\"ffff ffff\")\n",
    "\n",
    "inputs = (\n",
    "    c_txid\n",
    "    + c_index\n",
    "    + varint_len(scriptsig)\n",
    "    + scriptsig\n",
    "    + sequence\n",
    "    + h_txid\n",
    "    + h_index\n",
    "    + varint_len(scriptsig)\n",
    "    + scriptsig\n",
    "    + sequence\n",
    ")\n",
    "\n",
    "# LOCKTIME\n",
    "locktime = bytes.fromhex(\"0000 0000\")"
   ]
  },
  {
   "cell_type": "markdown",
   "metadata": {},
   "source": [
    "Now that we've defined all the fields apart from the output, we are ready to create a signature over it for the cold wallet's UTXO using the `SIGHASH_NONE` flag."
   ]
  },
  {
   "cell_type": "code",
   "execution_count": 5,
   "metadata": {},
   "outputs": [
    {
     "name": "stdout",
     "output_type": "stream",
     "text": [
      "18b9b42c3ce105eccf440ae37be7794003358a659b0c9b57b4d1cb6581ac2a61\n"
     ]
    }
   ],
   "source": [
    "sighash_epoch = bytes.fromhex(\"00\")\n",
    "\n",
    "# The cold wallet UTXO is the first input, so we set this to 0\n",
    "index_of_this_input = bytes.fromhex(\"0000 0000\")\n",
    "\n",
    "# Control\n",
    "cold_hash_type = bytes.fromhex(\"02\") # SIGHASH_NONE\n",
    "\n",
    "# Transaction data\n",
    "sha_prevouts = sha256(\n",
    "    c_txid \n",
    "    + c_index\n",
    "    + h_txid\n",
    "    + h_index\n",
    ")\n",
    "\n",
    "cold_input_amount_sat = int(2.001 * 100_000_000)\n",
    "cold_input_amount = cold_input_amount_sat.to_bytes(8, byteorder=\"little\", signed=False)\n",
    "hot_input_amount_sat = int(0.101 * 100_000_000)\n",
    "hot_input_amount = hot_input_amount_sat.to_bytes(8, byteorder=\"little\", signed=False)\n",
    "# Note that sha_amounts is of the serialization of all input amounts, not the summed total\n",
    "sha_amounts = sha256(cold_input_amount + hot_input_amount)\n",
    "\n",
    "sha_scriptpubkeys = sha256(\n",
    "    varint_len(cold_spk)\n",
    "    + cold_spk\n",
    "    + varint_len(hot_spk)\n",
    "    + hot_spk\n",
    ")\n",
    "\n",
    "sha_sequences = sha256(sequence + sequence)\n",
    "\n",
    "# Data about this input\n",
    "spend_type = bytes.fromhex(\"00\") # no annex present\n",
    "\n",
    "sig_msg = (\n",
    "    sighash_epoch\n",
    "    + cold_hash_type\n",
    "    + version\n",
    "    + locktime\n",
    "    + sha_prevouts\n",
    "    + sha_amounts\n",
    "    + sha_scriptpubkeys\n",
    "    + sha_sequences\n",
    "#     + sha_outputs  # SIGHASH_NONE means we are not signing over any outputs!\n",
    "    + spend_type\n",
    "    + index_of_this_input\n",
    ")\n",
    "\n",
    "tag_hash = sha256(\"TapSighash\".encode())\n",
    "cold_sighash = sha256(tag_hash + tag_hash + sig_msg)\n",
    "print(cold_sighash.hex())"
   ]
  },
  {
   "cell_type": "code",
   "execution_count": 6,
   "metadata": {},
   "outputs": [
    {
     "name": "stdout",
     "output_type": "stream",
     "text": [
      "Signature for the cold wallet UTXO:  493b33b734db4e9a779b92c1f224590db29c2c960ba08ff67fcadfbe9073b1f39c995c7cf604e3ac9a6cd12bf26297a9573d2083c54db5a36a85f34221d9ea6a02\n"
     ]
    }
   ],
   "source": [
    "# Sign the partial transaction\n",
    "aux_rand = bytes.fromhex(\"0000000000000000000000000000000000000000000000000000000000000000\")\n",
    "cold_signature = tr.schnorr_sign(cold_sighash, cold_privkey, aux_rand)\n",
    "\n",
    "# Append the sighash flag \n",
    "cold_signature += cold_hash_type\n",
    "\n",
    "print(\"Signature for the cold wallet UTXO: \", cold_signature.hex())"
   ]
  },
  {
   "cell_type": "markdown",
   "metadata": {},
   "source": [
    "Now that Jose has the signature for the cold wallet UTXO, he can take it with him back when he goes back to his restaurant. As long as he's confident that his hot wallet private keys have not been compromised, he will be able to complete the second half of the transaction securely."
   ]
  },
  {
   "cell_type": "markdown",
   "metadata": {},
   "source": [
    "## Part 2: Signing the second input with SIGHASH_ALL\n",
    "\n",
    "Jose has had time to find a suitable contractor for his restaurant's relocation, has negotiated a price of 1.6 bitcoins and is ready to pay. He can now define the outputs for his partial bitcoin transaction and sign the second input using the lighting hot wallet."
   ]
  },
  {
   "cell_type": "code",
   "execution_count": 8,
   "metadata": {},
   "outputs": [],
   "source": [
    "# Decode the receiver's address\n",
    "contractors_address = 'bcrt1ql3e9pgs3mmwuwrh95fecme0s0qtn2880hlwwpw'\n",
    "hrp = 'bcrt'\n",
    "witver, witprog = b32.decode(hrp, contractors_address)\n",
    "pubkey_hash = bytearray(witprog)\n",
    "receiver_spk = bytes.fromhex(\"0014\") + pubkey_hash\n",
    "\n",
    "# Create a new pubkey to use as a change output.\n",
    "change_privkey = bytes.fromhex(\"2222222222222222222222222222222222222222222222222222222222222222\")\n",
    "change_pubkey = privkey_to_pubkey(change_privkey)\n",
    "\n",
    "# Set our output amounts (in satoshis) and scriptPubkeys\n",
    "output1_value_sat = int(float(\"1.6\") * 100000000)\n",
    "output1_spk = receiver_spk\n",
    "output2_value_sat = int(float(\"0.5\") * 100000000)\n",
    "output2_spk = bytes.fromhex(\"0014\") + hash160(change_pubkey)"
   ]
  },
  {
   "cell_type": "code",
   "execution_count": 9,
   "metadata": {},
   "outputs": [
    {
     "name": "stdout",
     "output_type": "stream",
     "text": [
      "unsigned_tx:  02000000021d437123220a74aff4144540faed3a51518a15d8832534c8f4063dcba4e697660000000000ffffffff44503f0cf41df5024002a1238799d61db598e974d0eef309478b21d00526bc570100000000ffffffff020068890900000000160014fc7250a211deddc70ee5a2738de5f07817351cef80f0fa0200000000160014531260aa2a199e228c537dfa42c82bea2c7c1f4d00000000\n"
     ]
    }
   ],
   "source": [
    "# OUTPUTS\n",
    "# 0x02 for two outputs\n",
    "output_count = bytes.fromhex(\"02\")\n",
    "output1_value = output1_value_sat.to_bytes(8, byteorder=\"little\", signed=False)\n",
    "output2_value = output2_value_sat.to_bytes(8, byteorder=\"little\", signed=False)\n",
    "\n",
    "outputs = (\n",
    "    output1_value\n",
    "    + varint_len(output1_spk)\n",
    "    + output1_spk\n",
    "    + output2_value\n",
    "    + varint_len(output2_spk)\n",
    "    + output2_spk\n",
    ")\n",
    "\n",
    "unsigned_tx = (\n",
    "    version\n",
    "    + input_count\n",
    "    + inputs\n",
    "    + output_count\n",
    "    + outputs\n",
    "    + locktime\n",
    ")\n",
    "print(\"unsigned_tx: \", unsigned_tx.hex())"
   ]
  },
  {
   "cell_type": "markdown",
   "metadata": {},
   "source": [
    "Above is the parsable unsigned transaction that contains all the inputs and outputs. We already have the signature for the first input `cold_signature`. Now all we need is to create the signature for the second input and then add them to the witness."
   ]
  },
  {
   "cell_type": "code",
   "execution_count": 10,
   "metadata": {},
   "outputs": [
    {
     "name": "stdout",
     "output_type": "stream",
     "text": [
      "Signature for the hot wallet UTXO:  cfb72ddd898c4ead3f932655c5e8da293ff9405e78653cb9bbd33482cf9ce01689e2f31522549a5cc7e028553adc00572bc8be22f41533a8484b7127ae50a3cb\n"
     ]
    }
   ],
   "source": [
    "# Create Signature for Hot Wallet UTXO\n",
    "sighash_epoch = bytes.fromhex(\"00\")\n",
    "index_of_this_input = bytes.fromhex(\"0100 0000\")\n",
    "\n",
    "# Control\n",
    "hot_hash_type = bytes.fromhex(\"00\") # SIGHASH_DEFAULT\n",
    "\n",
    "# SIGHASH_DEFAULT means we are signing over all outputs\n",
    "sha_outputs = sha256(outputs)\n",
    "\n",
    "# Data about this input\n",
    "spend_type = bytes.fromhex(\"00\") # no annex present\n",
    "\n",
    "# The other fields (sha_prevouts, sha_amounts,...etc) are the same as before\n",
    "sig_msg = (\n",
    "    sighash_epoch\n",
    "    + hot_hash_type\n",
    "    + version\n",
    "    + locktime\n",
    "    + sha_prevouts\n",
    "    + sha_amounts\n",
    "    + sha_scriptpubkeys\n",
    "    + sha_sequences\n",
    "    + sha_outputs\n",
    "    + spend_type\n",
    "    + index_of_this_input\n",
    ")\n",
    "\n",
    "tag_hash = sha256(\"TapSighash\".encode())\n",
    "hot_sighash = sha256(tag_hash + tag_hash + sig_msg)\n",
    "\n",
    "aux_rand = bytes.fromhex(\"0000000000000000000000000000000000000000000000000000000000000000\")\n",
    "hot_signature = tr.schnorr_sign(hot_sighash, hot_privkey, aux_rand)\n",
    "\n",
    "# Note that we don't append the SIGHASH_DEFAULT flag to the signature\n",
    "print(\"Signature for the hot wallet UTXO: \", hot_signature.hex())"
   ]
  },
  {
   "cell_type": "markdown",
   "metadata": {},
   "source": [
    "Nearly there! All we need to do is define the witness field with both signatures."
   ]
  },
  {
   "cell_type": "code",
   "execution_count": 11,
   "metadata": {},
   "outputs": [
    {
     "name": "stdout",
     "output_type": "stream",
     "text": [
      "signed transaction:  020000000001021d437123220a74aff4144540faed3a51518a15d8832534c8f4063dcba4e697660000000000ffffffff44503f0cf41df5024002a1238799d61db598e974d0eef309478b21d00526bc570100000000ffffffff020068890900000000160014fc7250a211deddc70ee5a2738de5f07817351cef80f0fa0200000000160014531260aa2a199e228c537dfa42c82bea2c7c1f4d0141493b33b734db4e9a779b92c1f224590db29c2c960ba08ff67fcadfbe9073b1f39c995c7cf604e3ac9a6cd12bf26297a9573d2083c54db5a36a85f34221d9ea6a020140cfb72ddd898c4ead3f932655c5e8da293ff9405e78653cb9bbd33482cf9ce01689e2f31522549a5cc7e028553adc00572bc8be22f41533a8484b7127ae50a3cb00000000\n"
     ]
    }
   ],
   "source": [
    "witness = (\n",
    "    bytes.fromhex(\"01\") # one stack item in the witness for input 1\n",
    "    + varint_len(cold_signature)\n",
    "    + cold_signature\n",
    "    + bytes.fromhex(\"01\") # one stack item in the witness for input 2\n",
    "    + varint_len(hot_signature)\n",
    "    + hot_signature\n",
    ")\n",
    "\n",
    "# the final signed transaction with both signature\n",
    "signed_tx = (\n",
    "    version\n",
    "    + marker\n",
    "    + flag\n",
    "    + input_count\n",
    "    + inputs\n",
    "    + output_count\n",
    "    + outputs\n",
    "    + witness\n",
    "    + locktime\n",
    ")\n",
    "\n",
    "print(\"signed transaction: \",signed_tx.hex())"
   ]
  },
  {
   "cell_type": "markdown",
   "metadata": {},
   "source": [
    "Now we can verify the validity of the transaction by running `testmempoolaccept` with bitcoind."
   ]
  },
  {
   "cell_type": "code",
   "execution_count": 12,
   "metadata": {},
   "outputs": [
    {
     "name": "stdout",
     "output_type": "stream",
     "text": [
      "[{'txid': '51eb1f909586cad13a8778301cfe444145cbff4407789bdc17b6035e0f0c24a6', 'wtxid': '5e9b4f4e82eff99b4276661c1d00986b69b26788a41a62bf0f06b389df7a72d5', 'allowed': True, 'vsize': 188, 'fees': {'base': Decimal('0.00200000')}}]\n"
     ]
    }
   ],
   "source": [
    "result = node.testmempoolaccept(rawtxs=[signed_tx.hex()])\n",
    "print(result)"
   ]
  },
  {
   "cell_type": "markdown",
   "metadata": {},
   "source": [
    "## Quiz\n",
    "\n",
    "1. In this example, if Jose accidentally leaked his partially signed transaction after step 1, what would prevent someone else from using that signature signed with the `SIGHASH_NONE` flag (`cold_signature`) from adding it to their own transaction?  \n",
    "2. If Jose suspected that an attacker had compromised his lightning wallet private keys, could he safely attempt to broadcast the same transaction (`signed_tx`) anyway?\n",
    "3. If Jose knew the amount he was going to pay the contractor, but not their address, what sighash flag could he use to constrain the final transaction further. What advantage if any might this have?"
   ]
  },
  {
   "cell_type": "markdown",
   "metadata": {},
   "source": [
    "## Answers\n",
    "\n",
    "1. The signature still signs over all the inputs. It would only ever be valid in a transaction that spent the same set of input UTXOs, so that spender would need knowledge of the first UTXO's private key.\n",
    "2. No. If someone knew the lightning wallet's private key, they would be able to view the transaction once it was broadcasted, then create another signed transaction sending the total amount to themselves. Note that not opting in to rbf may help prevent an attacker from spending from the same input once the initial transaction has been broadcast, but it is not a guarantee.\n",
    "3. He could use `SIGHASH_SINGLE` and sign over just the change output. It would help avoid losing all his funds in a worst case scenario where an attacker knew his lighting wallet private keys (as in Q2)."
   ]
  },
  {
   "cell_type": "markdown",
   "metadata": {},
   "source": [
    "## Exercise\n",
    "\n",
    "As in Q3 from the quiz, try editing the example above to set the first input to use `SIGHASH_SINGLE` instead of `SIGHASH_NONE`."
   ]
  }
 ],
 "metadata": {
  "kernelspec": {
   "display_name": "Python 3 (ipykernel)",
   "language": "python",
   "name": "python3"
  },
  "language_info": {
   "codemirror_mode": {
    "name": "ipython",
    "version": 3
   },
   "file_extension": ".py",
   "mimetype": "text/x-python",
   "name": "python",
   "nbconvert_exporter": "python",
   "pygments_lexer": "ipython3",
   "version": "3.10.11"
  }
 },
 "nbformat": 4,
 "nbformat_minor": 2
}
