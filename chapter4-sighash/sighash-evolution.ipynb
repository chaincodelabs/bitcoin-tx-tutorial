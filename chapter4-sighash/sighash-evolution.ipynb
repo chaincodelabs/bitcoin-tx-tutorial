{
 "cells": [
  {
   "cell_type": "markdown",
   "metadata": {},
   "source": [
    "# Signature hash algorithm evolution\n",
    "\n",
    "## Prerequisite knowledge\n",
    "- For all notebooks:\n",
    "    - A high level understanding of the bitcoin. e.g. [Mastering Bitcoin](https://github.com/bitcoinbook/bitcoinbook) by Andreas Antonopoulos UTXO model, in particular [Chapter 6](https://github.com/bitcoinbook/bitcoinbook/blob/develop/ch06.asciidoc).\n",
    "    - A conceptual understanding of [hash functions](https://www.thesslstore.com/blog/what-is-a-hash-function-in-cryptography-a-beginners-guide).\n",
    "    - [Hexadecimal notation](https://inst.eecs.berkeley.edu/~cs61bl/r//cur/bits/decimal-binary-hex.html?topic=lab28.topic&step=2&course=) and [endianness](https://www.freecodecamp.org/news/what-is-endianness-big-endian-vs-little-endian/).\n",
    "- Specific to this notebook:\n",
    "    - SHA256, HASH256, HASH160 - '[Hash Functions chapter](https://github.com/DariusParvin/bitcoin-tx-tutorial/blob/main/appendix/hash-functions.ipynb)'\n",
    "\n",
    "\n",
    "## Setup \n",
    "**You'll need to edit these next two lines for your local setup.**"
   ]
  },
  {
   "cell_type": "code",
   "execution_count": 1,
   "metadata": {},
   "outputs": [],
   "source": [
    "path_to_bitcoin_functional_test = \"/Users/dariuscognac/bitcoin/test/functional\"\n",
    "path_to_bitcoin_tx_tutorial = \"/Users/dariuscognac/Documents/Github/bitcoin-tx-tutorial\"\n",
    "\n",
    "import sys\n",
    "\n",
    "# Add the functional test framework to our PATH\n",
    "sys.path.insert(0, path_to_bitcoin_functional_test)\n",
    "from test_framework.test_shell import TestShell\n",
    "\n",
    "# Add the bitcoin-tx-tutorial functions to our PATH\n",
    "sys.path.insert(0, path_to_bitcoin_tx_tutorial)\n",
    "from functions import *"
   ]
  },
  {
   "cell_type": "markdown",
   "metadata": {},
   "source": [
    "## Introduction\n",
    "Bitcoin transactions that require signatures are signed over the signature hash. The sighash is a hash over all the parts of transaction that the signer wants their signature to commit to. For example a signature might commit to one or all of the inputs, and one or all of the outputs. The logic is that you concatenate all parts of the transaction you want to commit to and then hash them using a double sha256 hash. If the value of any of those items is changed (by an additional signer, miner, etc.) your signature will not verify as valid against the selected sighash parameters denoted by the sighash flag.\n",
    "\n",
    "From legacy, to segwitv0, to taproot, the computation of the sighash has changed along the way. These changes have been designed to make practical applications easier to perform. For example, in segwit v0, the input amount needed to be included in the inputs being signed over. This makes it easier for a signer to be sure what inputs it's signing over, rather than having to check against the blockchain.\n",
    "\n",
    "Other improvements have improved the efficiency of signing. For example, in taproot transactions many of the intermediate hashes can be reused across different inputs. In this section we'll look in detail about how the sighash computation has evolved."
   ]
  },
  {
   "cell_type": "markdown",
   "metadata": {},
   "source": [
    "## Unsigned transaction\n",
    "\n",
    "To illustrate how the sighash is calculated for the various types of bitcoin transactions, we'll define an example transaction with example values.\n",
    "\n",
    "To start with, we'll need to define our example UTXO with an outpoint (txid and index) and an amount. "
   ]
  },
  {
   "cell_type": "code",
   "execution_count": 2,
   "metadata": {},
   "outputs": [],
   "source": [
    "# UTXO to spend from\n",
    "txid_to_spend = \"dee5f46bf2b13839b927a83e3c19ec9e64488c0792a66f3f8716f3d2fba84acf\"\n",
    "index_to_spend = 0\n",
    "input_amount_sat = int(2.001 * 100_000_000)"
   ]
  },
  {
   "cell_type": "markdown",
   "metadata": {},
   "source": [
    "Now we'll set all the fields for our unsigned transaction."
   ]
  },
  {
   "cell_type": "code",
   "execution_count": 3,
   "metadata": {},
   "outputs": [],
   "source": [
    "# VERSION\n",
    "# version '2' indicates that we may use relative timelocks (BIP68)\n",
    "version = bytes.fromhex(\"0200 0000\")\n",
    "\n",
    "# INPUTS\n",
    "# We have just 1 input\n",
    "input_count = bytes.fromhex(\"01\")\n",
    "\n",
    "# Convert txid and index to bytes (little endian)\n",
    "txid = (bytes.fromhex(txid_to_spend))[::-1]\n",
    "index = index_to_spend.to_bytes(4, byteorder=\"little\", signed=False)\n",
    "\n",
    "# For the unsigned transaction we use an empty scriptSig\n",
    "empty_scriptsig = bytes.fromhex(\"\")\n",
    "\n",
    "# use 0xffffffff unless you are using OP_CHECKSEQUENCEVERIFY, locktime, or rbf\n",
    "sequence = bytes.fromhex(\"ffff ffff\")\n",
    "\n",
    "# OUTPUTS\n",
    "# 0x02 for out two outputs\n",
    "output_count = bytes.fromhex(\"02\")\n",
    "\n",
    "# OUTPUT 1 \n",
    "output1_value_sat = int(float(\"1.5\") * 100000000)\n",
    "output1_value = output1_value_sat.to_bytes(8, byteorder=\"little\", signed=False)\n",
    "output1_spk = bytes.fromhex(\"0014fc7250a211deddc70ee5a2738de5f07817351cef\")\n",
    "\n",
    "# OUTPUT 2\n",
    "output2_value_sat = int(float(\"0.5\") * 100000000)\n",
    "output2_value = output2_value_sat.to_bytes(8, byteorder=\"little\", signed=False)\n",
    "output2_spk = bytes.fromhex(\"0014531260aa2a199e228c537dfa42c82bea2c7c1f4d\")\n",
    "\n",
    "# LOCKTIME\n",
    "locktime = bytes.fromhex(\"0000 0000\")"
   ]
  },
  {
   "cell_type": "code",
   "execution_count": 4,
   "metadata": {},
   "outputs": [],
   "source": [
    "inputs = (\n",
    "    txid\n",
    "    + index\n",
    "    + varint_len(empty_scriptsig)\n",
    "    + empty_scriptsig\n",
    "    + sequence\n",
    ")\n",
    "\n",
    "outputs = (\n",
    "    output1_value\n",
    "    + varint_len(output1_spk)\n",
    "    + output1_spk\n",
    "    + output2_value\n",
    "    + varint_len(output2_spk)\n",
    "    + output2_spk\n",
    ")\n",
    "\n",
    "unsigned_tx = (\n",
    "    version\n",
    "    + input_count\n",
    "    + inputs\n",
    "    + output_count\n",
    "    + outputs\n",
    "    + locktime\n",
    ")"
   ]
  },
  {
   "cell_type": "markdown",
   "metadata": {},
   "source": [
    "## Legacy signature hash\n",
    "\n",
    "As you'll see from the example below, legacy transactions have a very straightforward signature hash algorithm that is based on hashing a slightly altering version of the unsigned transaction. While straightforward, it does has some weaknesses that get addressed in segwit."
   ]
  },
  {
   "cell_type": "code",
   "execution_count": 5,
   "metadata": {},
   "outputs": [],
   "source": [
    "# Sender pubkey \n",
    "sender_pubkey = bytes.fromhex(\"4f355bdcb7cc0af728ef3cceb9615d90684bb5b2ca5f859ab0f0b704075871aa\")\n",
    "\n",
    "# scriptPubkey of the UTXO we're spending from\n",
    "pk_hash = hash160(sender_pubkey)\n",
    "p2pkh_scriptpubkey = bytes.fromhex(\"76a914\" + pk_hash.hex() + \"88ac\")"
   ]
  },
  {
   "cell_type": "code",
   "execution_count": 6,
   "metadata": {},
   "outputs": [
    {
     "name": "stdout",
     "output_type": "stream",
     "text": [
      "Legacy sighash digest:  7afc74798a481b78b0d2dacb11f043e3b0b21311cfe6864a7e4acef56791e3b7\n"
     ]
    }
   ],
   "source": [
    "# STEP 1: replace the empty scriptSig with the input scriptPubkey\n",
    "tx_digest_preimage = (\n",
    "    # Version\n",
    "    version\n",
    "    \n",
    "    # Inputs\n",
    "    + input_count\n",
    "    + txid\n",
    "    + index\n",
    "    + varint_len(p2pkh_scriptpubkey) # varint length of input scriptpubkey\n",
    "    + p2pkh_scriptpubkey             # replace empty_scriptsig with input scriptpubkey\n",
    "    + sequence\n",
    "    \n",
    "    # Outputs\n",
    "    + output_count\n",
    "    + outputs\n",
    "    \n",
    "    # Locktime\n",
    "    + locktime\n",
    ")\n",
    "\n",
    "# STEP 2: Append the sighash flag to the transaction\n",
    "sighash_type = bytes.fromhex(\"0100 0000\") # SIGHASH_ALL\n",
    "tx_digest_preimage += sighash_type\n",
    "\n",
    "# STEP 3: HASH256\n",
    "sighash = hash256(tx_digest_preimage)\n",
    "\n",
    "print(\"Legacy sighash digest: \", sighash.hex())"
   ]
  },
  {
   "cell_type": "markdown",
   "metadata": {},
   "source": [
    "This signature hash algorithm appears very straightforward and intuitive. It is simply the original unsigned transaction, but replacing the scriptSig with the scriptPubKey, and appending the sighash type. There are unfortunately two weaknesses with this algorithm:\n",
    "\n",
    "1 - For the verification of each signature, the amount of data hashing is proportional to the size of the transaction. As you can see from the example above, the whole transaction is signed over. Let's say the transaction had 100 p2pkh inputs. Not only does it make the transaction become large due to the number of inputs, but since each signature will require the hashing the transaction using the algorithm above, the amount of hashed data grows in O(n<sup>2</sup>).\n",
    "\n",
    "2 - This is usually not a problem for online network nodes as they could request for the specified transaction to acquire the output value. For an offline transaction signing device (\"cold wallet\"), however, the unknowing of input amount makes it impossible to calculate the exact amount being spent and the transaction fee. To cope with this problem a cold wallet must also acquire the full transaction being spent, which could be a big obstacle in the implementation of lightweight, air-gapped wallet. By including the input value of part of the transaction digest, a cold wallet may safely sign a transaction by learning the value from an untrusted source. In the case that a wrong value is provided and signed, the signature would be invalid and no funding might be lost."
   ]
  },
  {
   "cell_type": "markdown",
   "metadata": {},
   "source": [
    "## Segwit v0\n",
    "\n",
    "The segwit signature hash algorithm described in [BIP143](https://github.com/bitcoin/bips/blob/master/bip-0143.mediawiki) addresses the two weaknesses with the previous version above.\n"
   ]
  },
  {
   "cell_type": "code",
   "execution_count": 7,
   "metadata": {},
   "outputs": [],
   "source": [
    "# For a segwit v0 transaction we'll define a new scriptpubkey to be the input we're spending from.\n",
    "sender_pubkey = bytes.fromhex(\"4f355bdcb7cc0af728ef3cceb9615d90684bb5b2ca5f859ab0f0b704075871aa\")\n",
    "\n",
    "# scriptPubkey of the UTXO we're spending from\n",
    "pk_hash = hash160(sender_pubkey)\n",
    "p2wpkh_scriptcode = bytes.fromhex(\"76a914\" + pk_hash.hex() + \"88ac\")"
   ]
  },
  {
   "cell_type": "code",
   "execution_count": 8,
   "metadata": {},
   "outputs": [
    {
     "name": "stdout",
     "output_type": "stream",
     "text": [
      "Segwit v0 sighash digest:  da5f24608b19b11542beee4c3787b218f58d7f3686fce49c8c30911badfb2aed\n"
     ]
    }
   ],
   "source": [
    "# weakness 2 - The value of the input amount is now included in the sighash. Therefore a cold wallet cannot \n",
    "# be 'tricked' into signing off on an input with a different amount than anticipated (which would normally \n",
    "# affect the amount being spent on fees).\n",
    "value = input_amount_sat.to_bytes(8, byteorder=\"little\", signed=False)\n",
    "\n",
    "# weakness 1 - Hashing over the inputs (prevouts, sequences) and outputs in isolation means these hashes can \n",
    "# be reused for constructing the sighash for each input. While not much of a difference for transactions with\n",
    "# a single input, in the worse case scenario for a trasaction with many inputs, reusing these intermediary \n",
    "# hashes greatly reduces the total amount of hashing.\n",
    "hashPrevOuts = hash256(txid + index)\n",
    "hashSequence = hash256(sequence)\n",
    "hashOutputs = hash256(outputs)\n",
    "\n",
    "# Aside from incorporating the two changes above, the rest of the signature hash algorithm is largely the same.\n",
    "sighash_type = bytes.fromhex(\"0100 0000\") # SIGHASH_ALL\n",
    "\n",
    "tx_digest_preimage = (\n",
    "    version\n",
    "    + hashPrevOuts # Intermediate hash for efficiency\n",
    "    + hashSequence # Intermediate hash for efficiency\n",
    "    + txid\n",
    "    + index\n",
    "    + varint_len(p2wpkh_scriptcode)\n",
    "    + p2wpkh_scriptcode\n",
    "    + value        # Input value is now included\n",
    "    + sequence\n",
    "    + hashOutputs  # Intermediate hash for efficiency\n",
    "    + locktime\n",
    "    + sighash_type\n",
    ")\n",
    "\n",
    "# Create sigHash to be signed\n",
    "sighash = hash256(tx_digest_preimage)\n",
    "print(\"Segwit v0 sighash digest: \", sighash.hex())"
   ]
  },
  {
   "cell_type": "markdown",
   "metadata": {},
   "source": [
    "The new algorithm addresses the two weaknesses with the previous one.\n",
    "\n",
    "1 - Rather than hash over the whole transaction for each signature hash, the `hashPrevOuts`, `hashSequence`, and `hashOutputs` only need to be computed once, and can be reused for other inputs. Thus the overall complexity of the whole hashing process reduces from O(n<sup>2</sup>) to O(n).\n",
    "\n",
    "2 - The value of the input is now included in the signature hash. This makes it more convenient for offline signers to verify the total amount being spent."
   ]
  },
  {
   "cell_type": "markdown",
   "metadata": {},
   "source": [
    "## Taproot (Segwit v1)\n",
    "\n",
    "Taproot introduced a number of upgrades for bitcoin. Furthermore, there are a number of potential upgrades leveraging schnorr signatures such as [cross-input aggregation](https://bitcointalk.org/index.php?topic=1377298.0) that are not ready for bitcoin in their present form. The signature hash algorithm introduced in taproot includes a bytes reserved for future extensions. \n",
    "\n",
    "Although the Segwit v0 signature hash algorithm was an improvement on the legacy version, there are still some weaknesses to be addressed. The taproot sighash algorithm improves upon the segwit v0 algorithm in the following ways:\n",
    "\n",
    "1 - The values of all the inputs are hashed over. This eliminates the possibility to lie to an offline signing device about the fee of the transaction. In segwit v0, only the value of the input being signed is provided in the sighash.\n",
    "\n",
    "2 - The offline signing device commits to all the scriptPubkeys. This prevents an offline signer from being lied to about the output being spent, even when the actually executed script is correct. This makes it possible to prove to the offline signer what (unused) execution paths existed. To put it another way, if the scriptPubKey was not included, the offline signer could be signing off on a transaction spending from a taproot output via script path, without knowing the merkle root. In this situation the offline signer wouldn't have enough information to verify what the unspent paths were. \n",
    "\n",
    "A secondary benefit of committing to all the scriptPubKeys is that it also helps offline signers be aware of other inputs that belong to the same wallet.\n",
    "\n",
    "3 - Instead of hash operations using HASH256, they use SHA256, avoiding unnecessary hashing."
   ]
  },
  {
   "cell_type": "code",
   "execution_count": 9,
   "metadata": {},
   "outputs": [],
   "source": [
    "# For a taproot transaction we'll define a new private key, x-only pubkey, and scriptPubkey for \n",
    "# the input we're spending from.\n",
    "\n",
    "privkey = bytes.fromhex(\"1111111111111111111111111111111111111111111111111111111111111111\")\n",
    "pubkey = tr.pubkey_gen(privkey)\n",
    "taproot_scriptPubkey = bytes.fromhex(\"5120\") + pubkey"
   ]
  },
  {
   "cell_type": "markdown",
   "metadata": {},
   "source": [
    "The `sighash_epoch` prefix allows reusing the hashTapSighash tagged hash in future signature algorithms that make invasive changes to how hashing is performed\n",
    "\n",
    "Note that unlike previous transaction types (legacy and segwit v0), the `sha256` is used rather than `hash256`. `hash256` is simply two rounds of `sha256`, and this extra round of hashing is unnecessary as it provides no extra security.\n",
    "\n",
    "Compared to segwit v0, taproot sighashes don't just include the hash of the previous outpoints, but the hash of the input amounts and scriptPubKeys in `sha_amounts` and `sha_scriptpubkeys`.\n",
    "\n",
    "`spend_type` indicates whether the transaction is spending using a key-path or script-path.\n",
    "\n",
    "The sighash includes the index of the input being signed `index_of_this_input`.\n",
    "\n",
    "The digest is not computed from `hash256` as in previous versions, but instead a TaggedHash with the string `\"TapSigHash\"`."
   ]
  },
  {
   "cell_type": "code",
   "execution_count": 10,
   "metadata": {},
   "outputs": [
    {
     "name": "stdout",
     "output_type": "stream",
     "text": [
      "Taproot sighash digest:  eba91a23cb1f908e27f2e9a44c28ea127a9ce724c25b97786a0e53fd24a186e6\n"
     ]
    }
   ],
   "source": [
    "# Future versions may use a different sighash epoc for different sighash algorithms\n",
    "sighash_epoch = bytes.fromhex(\"00\") \n",
    "\n",
    "# Sighash algorithm now includes the index of the input being signed over.\n",
    "# This makes it easier for offline signers \n",
    "index_of_this_input = bytes.fromhex(\"0000 0000\")\n",
    "\n",
    "# Control\n",
    "sighash_type = bytes.fromhex(\"00\") # SIGHASH_DEFAULT (a new sighash type meaning implied SIGHASH_ALL)\n",
    "\n",
    "# 3 - Avoid unnecessay hashing by using SHA256 instead of HASH256\n",
    "sha_prevouts = sha256(txid + index)\n",
    "\n",
    "# 1 - Taproot transactions sign over all the input amounts (not just the one being signed)\n",
    "# Note that input_amounts is the concatenation of all input amounts\n",
    "input_amounts = input_amount_sat.to_bytes(8, byteorder=\"little\", signed=False)\n",
    "\n",
    "# 3 - Avoid unnecessay hashing by using SHA256 instead of HASH256\n",
    "sha_amounts = sha256(input_amounts)\n",
    "\n",
    "# 2 - Taproot transactions sign now over scriptPubKeys\n",
    "sha_scriptpubkeys = sha256(\n",
    "    varint_len(taproot_scriptPubkey)\n",
    "    + taproot_scriptPubkey\n",
    ")\n",
    "\n",
    "# 3 - Avoid unnecessay hashing by using SHA256 instead of HASH256\n",
    "sha_sequences = sha256(sequence)\n",
    "sha_outputs = sha256(outputs) \n",
    "\n",
    "# Spend type indicated key vs script path, and whether an annex is present\n",
    "spend_type = bytes.fromhex(\"00\") # no annex present\n",
    "\n",
    "sig_msg = (\n",
    "    sighash_epoch\n",
    "    + sighash_type\n",
    "    + version\n",
    "    + locktime\n",
    "    + sha_prevouts\n",
    "    + sha_amounts\n",
    "    + sha_scriptpubkeys\n",
    "    + sha_sequences\n",
    "    + sha_outputs\n",
    "    + spend_type\n",
    "    + index_of_this_input # Now includes the index of the input being signed\n",
    ")\n",
    "\n",
    "\n",
    "# Taproot uses tagged hashes for the sighash\n",
    "tag_hash = sha256(\"TapSighash\".encode())\n",
    "sighash = sha256(tag_hash + tag_hash + sig_msg)\n",
    "print(\"Taproot sighash digest: \", sighash.hex())"
   ]
  },
  {
   "cell_type": "markdown",
   "metadata": {},
   "source": [
    "## Quiz\n",
    "\n",
    "1. A company stores most of its bitcoin holdings in an air-gapped signer. The company intends to move 10 btc from cold storage into their hot wallet using a transaction with one input and one output. Due to a bug in the wallet software, of using a p2wpk UTXO with 10.001 btc as the input, they create the signed transaction using a 50 btc p2pkh UTXO. If they broadcast this transaction, would it get mined?\n",
    "\n",
    "2. Suppose the selected input was instead a p2wpk or p2tr UTXO worth 50 btc? Would they get mined?"
   ]
  },
  {
   "cell_type": "markdown",
   "metadata": {},
   "source": [
    " ## Answers\n",
    "1. The transaction would get mined as the input was a p2pkh input and the signature hash doesn't take into account the input amount.\n",
    "\n",
    "2. For p2wpk or p2tr, the input amount used to generate the signature hash would not match the one being generated by other bitcoin nodes. This would invalidate the signature and prevent the transaction from being mined."
   ]
  },
  {
   "cell_type": "markdown",
   "metadata": {},
   "source": [
    "## Exercise\n"
   ]
  }
 ],
 "metadata": {
  "kernelspec": {
   "display_name": "Python 3",
   "language": "python",
   "name": "python3"
  },
  "language_info": {
   "codemirror_mode": {
    "name": "ipython",
    "version": 3
   },
   "file_extension": ".py",
   "mimetype": "text/x-python",
   "name": "python",
   "nbconvert_exporter": "python",
   "pygments_lexer": "ipython3",
   "version": "3.7.0"
  }
 },
 "nbformat": 4,
 "nbformat_minor": 2
}
